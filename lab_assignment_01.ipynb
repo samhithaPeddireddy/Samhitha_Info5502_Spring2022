{
  "cells": [
    {
      "cell_type": "markdown",
      "metadata": {
        "id": "view-in-github",
        "colab_type": "text"
      },
      "source": [
        "<a href=\"https://colab.research.google.com/github/samhithaPeddireddy/Samhitha_Info5502_Spring2022/blob/main/lab_assignment_01.ipynb\" target=\"_parent\"><img src=\"https://colab.research.google.com/assets/colab-badge.svg\" alt=\"Open In Colab\"/></a>"
      ]
    },
    {
      "cell_type": "markdown",
      "metadata": {
        "id": "DymRJbxDBCnf"
      },
      "source": [
        "# **The first Lab-assignment (01/25/2022, 50 points in total)**"
      ]
    },
    {
      "cell_type": "markdown",
      "metadata": {
        "id": "jJDe71iLB616"
      },
      "source": [
        "(1) Write a Python program to count the number of characters in a string. (5 points)\n",
        "\n",
        "Sample String : 'google.com', \n",
        "\n",
        "Expected Result : {'o': 3, 'g': 2, '.': 1, 'e': 1, 'l': 1, 'm': 1, 'c': 1}"
      ]
    },
    {
      "cell_type": "code",
      "execution_count": null,
      "metadata": {
        "id": "MtKskTzbCLaU",
        "colab": {
          "base_uri": "https://localhost:8080/"
        },
        "outputId": "3cde251d-c7e3-4099-b8d4-1bfad6650bf2"
      },
      "outputs": [
        {
          "output_type": "stream",
          "name": "stdout",
          "text": [
            "enter the stringsaamhiii\n",
            "{'i': 3, 'a': 2, 's': 1, 'm': 1, 'h': 1}\n"
          ]
        }
      ],
      "source": [
        "def variablecount(str1):\n",
        "\n",
        " di={}\n",
        " for n in str1:\n",
        "        k = di.keys()\n",
        "        if n in k:\n",
        "            di[n] += 1\n",
        "        else:\n",
        "            di[n] = 1\n",
        " \n",
        " #print(dict)\n",
        " \n",
        " #print(a)\n",
        " \n",
        " \n",
        " sorted_count=dict(sorted(di.items(),key = lambda ks: -ks[1]))\n",
        " print(sorted_count)\n",
        " \n",
        "str2= input(\"enter the string\")\n",
        "variablecount(str2) \n"
      ]
    },
    {
      "cell_type": "markdown",
      "metadata": {
        "id": "55W9AMdXCSpV"
      },
      "source": [
        "(2) Write a Python program to sum all the items in a list. (5 points)"
      ]
    },
    {
      "cell_type": "code",
      "execution_count": null,
      "metadata": {
        "id": "I57NXsauCec2",
        "colab": {
          "base_uri": "https://localhost:8080/"
        },
        "outputId": "d2c2f2f4-27f8-4f63-b40e-df304fb88f5f"
      },
      "outputs": [
        {
          "output_type": "stream",
          "name": "stdout",
          "text": [
            "provide the list with space1 2 3 4 5 6\n",
            "21\n"
          ]
        }
      ],
      "source": [
        "input_str= input('provide the list with space')\n",
        "listm= input_str.split()\n",
        "sum1=0\n",
        "for i in listm:\n",
        "  sum1=sum1+ int(i)  \n",
        "print(sum1)\n"
      ]
    },
    {
      "cell_type": "markdown",
      "metadata": {
        "id": "4ulBZ6yhCi9F"
      },
      "source": [
        "(3) Write a Python program to get a string from a given string where all occurrences of its first char have been changed to '\\$', except the first char itself. (5 points)\n",
        "\n",
        "Sample String : 'restart', \n",
        "\n",
        "Expected Result : 'resta\\$t'"
      ]
    },
    {
      "cell_type": "code",
      "execution_count": null,
      "metadata": {
        "id": "Fj0XhwbBCw2o",
        "colab": {
          "base_uri": "https://localhost:8080/"
        },
        "outputId": "ad23a0b2-412f-4c31-9d79-23165f16f353"
      },
      "outputs": [
        {
          "output_type": "stream",
          "name": "stdout",
          "text": [
            "Enter the stringrrrrrrr\n",
            "r$$$$$$\n"
          ]
        }
      ],
      "source": [
        "str1= input(\"Enter the string\")\n",
        "a = (str1[0])\n",
        "\n",
        "if a in str1:\n",
        " b=str1.replace(a,\"$\")\n",
        "str2=a+b[1:]\n",
        "print(str2)\n"
      ]
    },
    {
      "cell_type": "markdown",
      "metadata": {
        "id": "_bIP7s1MCzue"
      },
      "source": [
        "(4) Write a program with python which could accept two parameter a and b to calculate and output the result of S, where \n",
        "\n",
        "$\\ S=3.14*(1+a/b)^3$ (5 points)\n",
        "\n"
      ]
    },
    {
      "cell_type": "code",
      "execution_count": null,
      "metadata": {
        "id": "w79QilHXD3Mg",
        "colab": {
          "base_uri": "https://localhost:8080/"
        },
        "outputId": "6d30247a-c917-4a5e-8e80-1ec0c88c9db6"
      },
      "outputs": [
        {
          "output_type": "stream",
          "name": "stdout",
          "text": [
            "enter variable a2\n",
            "enter variable b3\n",
            "14.537037037037033\n"
          ]
        }
      ],
      "source": [
        "a=input(\"enter variable a\")\n",
        "b=input(\"enter variable b\")\n",
        "s=3.14*((1+(float(a)/float(b))))**3\n",
        "print(s)\n",
        "\n"
      ]
    },
    {
      "cell_type": "markdown",
      "metadata": {
        "id": "xCa2bK9aD4Q3"
      },
      "source": [
        "(5) Write a Python program to concatenate following dictionaries to create a new one. (5 points)\n",
        "\n",
        "Sample Dictionary : dic1={1:10, 2:20}, dic2={3:30, 4:40}, dic3={5:50,6:60}, \n",
        "\n",
        "Expected Result : {1: 10, 2: 20, 3: 30, 4: 40, 5: 50, 6: 60}\n"
      ]
    },
    {
      "cell_type": "code",
      "execution_count": null,
      "metadata": {
        "id": "_z4aLqAbEET1",
        "colab": {
          "base_uri": "https://localhost:8080/"
        },
        "outputId": "2abeae98-6891-43a4-8f82-cecb6eeaafd5"
      },
      "outputs": [
        {
          "output_type": "stream",
          "name": "stdout",
          "text": [
            "{1: 10, 2: 20, 3: 30, 4: 40, 5: 50, 6: 60}\n"
          ]
        }
      ],
      "source": [
        "dic1={1:10, 2:20} \n",
        "dic2={3:30, 4:40}\n",
        "dic3={5:50,6:60}\n",
        "dic1.update(dic2)\n",
        "dic1.update(dic3)\n",
        "print(dic1)"
      ]
    },
    {
      "cell_type": "markdown",
      "metadata": {
        "id": "0v48Vqa7FrQh"
      },
      "source": [
        "(6) Write a Python program to check whether an element exists within a tuple. (5 points)"
      ]
    },
    {
      "cell_type": "code",
      "execution_count": null,
      "metadata": {
        "id": "7WEmgq-DF2P1",
        "colab": {
          "base_uri": "https://localhost:8080/"
        },
        "outputId": "7ba4b202-bb07-431d-f817-ec2e1349ada8"
      },
      "outputs": [
        {
          "output_type": "stream",
          "name": "stdout",
          "text": [
            "enter tuple to searchCamden ,ken\n",
            "enter element to searchmin\n",
            "not present\n"
          ]
        }
      ],
      "source": [
        "t=input(\"enter tuple to search\")\n",
        "e= input(\"enter element to search\")\n",
        "#print(tuple(t.split()))\n",
        "if(e in t):\n",
        "  print(\"element present\")\n",
        "else:\n",
        "  print(\"not present\")\n"
      ]
    },
    {
      "cell_type": "markdown",
      "metadata": {
        "id": "vD5PYLMuGga_"
      },
      "source": [
        "(7) Write a Python program to find maximum and the minimum value in a set. (5 points)"
      ]
    },
    {
      "cell_type": "code",
      "execution_count": null,
      "metadata": {
        "id": "t0D5kdJUGjjw",
        "colab": {
          "base_uri": "https://localhost:8080/"
        },
        "outputId": "97ad1d80-8034-4e50-b7a4-4e8dba9852ad"
      },
      "outputs": [
        {
          "output_type": "stream",
          "name": "stdout",
          "text": [
            "Enter the numbers separated by space to find minimum and maximum234 33 45 45 6 7 8\n",
            "min is  6\n",
            "max is  234\n"
          ]
        }
      ],
      "source": [
        "x=input(\"Enter the numbers separated by space to find minimum and maximum\")\n",
        "y=[int(y) for y in x.split(\" \")]\n",
        "print (\"min is \",min(y))\n",
        "print (\"max is \",max(y))\n",
        "\n"
      ]
    },
    {
      "cell_type": "markdown",
      "metadata": {
        "id": "uHkd-y5VhVWC"
      },
      "source": [
        "(8) Write a Python program to randomly divide the students in this class into six groups for term projects, each group should have at least 4 students but no more than 6 students (including 6). Here is the students list: (5 points)\n",
        "\n",
        "studnet_list = ['ja0964','sa1198','sb1357','vb0218','sc1229','kg0569','kg0470','sg1297','bg0320','fh0141','jl1252','sk1386',\n",
        "           'ak0956','sk1390','sk1458','sk1313','ak0934','vm0377','nm0618','sm1640','sm1907','gn0108','pr0353','dr0609','ms1500','aos0040','ds0814', 'av0659','nv0234','hy0232']"
      ]
    },
    {
      "cell_type": "code",
      "execution_count": 16,
      "metadata": {
        "id": "3iGbmcOBhTwy",
        "colab": {
          "base_uri": "https://localhost:8080/"
        },
        "outputId": "0b45c79f-5483-440f-f485-440a790b88e8"
      },
      "outputs": [
        {
          "output_type": "stream",
          "name": "stdout",
          "text": [
            "['fh0141', 'sg1297', 'aos0040', 'jl1252']\n",
            "['av0659', 'sa1198', 'kg0470', 'sb1357', 'sk1313', 'nv0234']\n",
            "['sm1907', 'ja0964', 'sk1386', 'dr0609', 'ms1500']\n",
            "['sk1390', 'nm0618', 'sc1229', 'hy0232', 'gn0108', 'ak0956']\n",
            "['ak0934', 'vm0377', 'sm1640', 'bg0320']\n",
            "['kg0569', 'pr0353', 'vb0218', 'ds0814', 'sk1458']\n"
          ]
        }
      ],
      "source": [
        "# write your answer here\n",
        "import numpy as np, random\n",
        "studnet_list = ['ja0964','sa1198','sb1357','vb0218','sc1229','kg0569','kg0470','sg1297','bg0320','fh0141','jl1252','sk1386', 'ak0956','sk1390','sk1458','sk1313','ak0934','vm0377','nm0618','sm1640','sm1907','gn0108','pr0353','dr0609','ms1500','aos0040','ds0814', 'av0659','nv0234','hy0232']\n",
        "\n",
        "\n",
        "len_g =[4,6,5,6,4,5]\n",
        "rslt = []\n",
        "for l in len_g:\n",
        " \n",
        "  grp = random.sample(studnet_list, l)\n",
        "\n",
        "  studnet_list = list(set(studnet_list) ^ set(grp))\n",
        "  rslt = rslt + [grp]\n",
        "\n",
        "for r in rslt:\n",
        "    print(r, end= '\\n')\n"
      ]
    },
    {
      "cell_type": "markdown",
      "metadata": {
        "id": "5KvI5eb9uqAe"
      },
      "source": [
        "(9) Write a Python program to find the duplicate elements in a given array of integers. Return -1 If there are no such elements. (5 points)"
      ]
    },
    {
      "cell_type": "code",
      "execution_count": 20,
      "metadata": {
        "id": "-0Ap_DPAuqAf",
        "colab": {
          "base_uri": "https://localhost:8080/"
        },
        "outputId": "31ecc743-abec-47b0-a3be-52ebd1b62a55"
      },
      "outputs": [
        {
          "output_type": "stream",
          "name": "stdout",
          "text": [
            "2\n",
            "3\n",
            "8\n"
          ]
        }
      ],
      "source": [
        "arr= [1, 2, 3, 4, 2, 7, 8, 8, 3];   \n",
        "flag=0;   \n",
        "for a in range(0, len(arr)):    \n",
        "    for b in range(a+1, len(arr)):    \n",
        "        if(arr[a] == arr[b]):   \n",
        "           flag = 1 \n",
        "           print(arr[b]);    \n",
        "if flag == 0:\n",
        "  print(\"-1\")\n",
        "\n",
        "\n"
      ]
    },
    {
      "cell_type": "markdown",
      "metadata": {
        "id": "jgNXWSrBuqAf"
      },
      "source": [
        "(10) Write a Python program to select all the Sundays of a specified year. (5 extra points)"
      ]
    },
    {
      "cell_type": "code",
      "execution_count": 17,
      "metadata": {
        "id": "OQmZL2ltuqAf",
        "colab": {
          "base_uri": "https://localhost:8080/"
        },
        "outputId": "dfe4515b-ac8d-4cc1-c40a-c445f746e171"
      },
      "outputs": [
        {
          "name": "stdout",
          "output_type": "stream",
          "text": [
            "Enter the year you want to get Sundays of: 2022\n"
          ]
        },
        {
          "output_type": "execute_result",
          "data": {
            "text/plain": [
              "['02-January-2022',\n",
              " '09-January-2022',\n",
              " '16-January-2022',\n",
              " '23-January-2022',\n",
              " '30-January-2022',\n",
              " '06-February-2022',\n",
              " '13-February-2022',\n",
              " '20-February-2022',\n",
              " '27-February-2022',\n",
              " '06-March-2022',\n",
              " '13-March-2022',\n",
              " '20-March-2022',\n",
              " '27-March-2022',\n",
              " '03-April-2022',\n",
              " '10-April-2022',\n",
              " '17-April-2022',\n",
              " '24-April-2022',\n",
              " '01-May-2022',\n",
              " '08-May-2022',\n",
              " '15-May-2022',\n",
              " '22-May-2022',\n",
              " '29-May-2022',\n",
              " '05-June-2022',\n",
              " '12-June-2022',\n",
              " '19-June-2022',\n",
              " '26-June-2022',\n",
              " '03-July-2022',\n",
              " '10-July-2022',\n",
              " '17-July-2022',\n",
              " '24-July-2022',\n",
              " '31-July-2022',\n",
              " '07-August-2022',\n",
              " '14-August-2022',\n",
              " '21-August-2022',\n",
              " '28-August-2022',\n",
              " '04-September-2022',\n",
              " '11-September-2022',\n",
              " '18-September-2022',\n",
              " '25-September-2022',\n",
              " '02-October-2022',\n",
              " '09-October-2022',\n",
              " '16-October-2022',\n",
              " '23-October-2022',\n",
              " '30-October-2022',\n",
              " '06-November-2022',\n",
              " '13-November-2022',\n",
              " '20-November-2022',\n",
              " '27-November-2022',\n",
              " '04-December-2022',\n",
              " '11-December-2022',\n",
              " '18-December-2022',\n",
              " '25-December-2022',\n",
              " '01-January-2023']"
            ]
          },
          "metadata": {},
          "execution_count": 17
        }
      ],
      "source": [
        "import pandas as pn\n",
        "\n",
        "def a_sund(year):\n",
        "  return pn.date_range(start=str(year), end=str(year+1), freq='W-SUN').strftime('%d-%B-%Y').tolist()\n",
        "\n",
        "year = int(input(\"Enter the year you want to get Sundays of: \"))\n",
        "a_sund(year)\n"
      ]
    }
  ],
  "metadata": {
    "colab": {
      "collapsed_sections": [],
      "name": "lab_assignment_01.ipynb",
      "provenance": [],
      "include_colab_link": true
    },
    "kernelspec": {
      "display_name": "Python 3",
      "language": "python",
      "name": "python3"
    },
    "language_info": {
      "codemirror_mode": {
        "name": "ipython",
        "version": 3
      },
      "file_extension": ".py",
      "mimetype": "text/x-python",
      "name": "python",
      "nbconvert_exporter": "python",
      "pygments_lexer": "ipython3",
      "version": "3.8.5"
    }
  },
  "nbformat": 4,
  "nbformat_minor": 0
}