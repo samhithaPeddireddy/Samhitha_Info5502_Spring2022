{
  "nbformat": 4,
  "nbformat_minor": 0,
  "metadata": {
    "colab": {
      "provenance": [],
      "collapsed_sections": [],
      "include_colab_link": true
    },
    "kernelspec": {
      "name": "python3",
      "display_name": "Python 3"
    },
    "language_info": {
      "name": "python"
    }
  },
  "cells": [
    {
      "cell_type": "markdown",
      "metadata": {
        "id": "view-in-github",
        "colab_type": "text"
      },
      "source": [
        "<a href=\"https://colab.research.google.com/github/samhithaPeddireddy/Samhitha_Info5502_Spring2022/blob/Python-and-Machine-Learning/5412_HW1.ipynb\" target=\"_parent\"><img src=\"https://colab.research.google.com/assets/colab-badge.svg\" alt=\"Open In Colab\"/></a>"
      ]
    },
    {
      "cell_type": "markdown",
      "source": [
        "# Homework 1: Combining tensors, Linear Algebra, and simple Neural Nets\n",
        "\n",
        "\n",
        "---\n",
        "\n",
        "\n",
        "#### **<font color=\"dodgerblue\">Due date: Tuesday, 27. Sep, 12:00 PM</font>**\n",
        "\n",
        "Each problem set below is marked with one or more $\\star$'s to indicate difficulty. "
      ],
      "metadata": {
        "id": "wIWA-I5ABDZT"
      }
    },
    {
      "cell_type": "markdown",
      "source": [
        "## Basic work with tensors ($\\star$)\n",
        "\n",
        "\n",
        "---\n",
        "\n",
        "Write small programs using `torch` to answer the following questions. "
      ],
      "metadata": {
        "id": "S6uNtABNqcOf"
      }
    },
    {
      "cell_type": "markdown",
      "source": [
        "1. Define a zeroth-order tensor `t0` with whatever value(s) you like."
      ],
      "metadata": {
        "id": "yC0Bh4iFqvEK"
      }
    },
    {
      "cell_type": "code",
      "source": [
        "!pip3 install torch==1.2.0+cu92 torchvision==0.4.0+cu92 -f https://download.pytorch.org/whl/torch_stable.html"
      ],
      "metadata": {
        "colab": {
          "base_uri": "https://localhost:8080/"
        },
        "id": "JjE_TkYIqzWA",
        "outputId": "086adc94-c9d4-45d7-a83d-c9f2b4e98dce"
      },
      "execution_count": 1,
      "outputs": [
        {
          "output_type": "stream",
          "name": "stdout",
          "text": [
            "Looking in indexes: https://pypi.org/simple, https://us-python.pkg.dev/colab-wheels/public/simple/\n",
            "Looking in links: https://download.pytorch.org/whl/torch_stable.html\n",
            "Collecting torch==1.2.0+cu92\n",
            "  Downloading https://download.pytorch.org/whl/cu92/torch-1.2.0%2Bcu92-cp37-cp37m-manylinux1_x86_64.whl (663.1 MB)\n",
            "\u001b[K     |████████████████████████████████| 663.1 MB 1.7 kB/s \n",
            "\u001b[?25hCollecting torchvision==0.4.0+cu92\n",
            "  Downloading https://download.pytorch.org/whl/cu92/torchvision-0.4.0%2Bcu92-cp37-cp37m-manylinux1_x86_64.whl (8.8 MB)\n",
            "\u001b[K     |████████████████████████████████| 8.8 MB 42.4 MB/s \n",
            "\u001b[?25hRequirement already satisfied: numpy in /usr/local/lib/python3.7/dist-packages (from torch==1.2.0+cu92) (1.21.6)\n",
            "Requirement already satisfied: six in /usr/local/lib/python3.7/dist-packages (from torchvision==0.4.0+cu92) (1.15.0)\n",
            "Requirement already satisfied: pillow>=4.1.1 in /usr/local/lib/python3.7/dist-packages (from torchvision==0.4.0+cu92) (7.1.2)\n",
            "Installing collected packages: torch, torchvision\n",
            "  Attempting uninstall: torch\n",
            "    Found existing installation: torch 1.12.1+cu113\n",
            "    Uninstalling torch-1.12.1+cu113:\n",
            "      Successfully uninstalled torch-1.12.1+cu113\n",
            "  Attempting uninstall: torchvision\n",
            "    Found existing installation: torchvision 0.13.1+cu113\n",
            "    Uninstalling torchvision-0.13.1+cu113:\n",
            "      Successfully uninstalled torchvision-0.13.1+cu113\n",
            "\u001b[31mERROR: pip's dependency resolver does not currently take into account all the packages that are installed. This behaviour is the source of the following dependency conflicts.\n",
            "torchtext 0.13.1 requires torch==1.12.1, but you have torch 1.2.0+cu92 which is incompatible.\n",
            "torchaudio 0.12.1+cu113 requires torch==1.12.1, but you have torch 1.2.0+cu92 which is incompatible.\n",
            "fastai 2.7.9 requires torch<1.14,>=1.7, but you have torch 1.2.0+cu92 which is incompatible.\n",
            "fastai 2.7.9 requires torchvision>=0.8.2, but you have torchvision 0.4.0+cu92 which is incompatible.\u001b[0m\n",
            "Successfully installed torch-1.2.0+cu92 torchvision-0.4.0+cu92\n"
          ]
        }
      ]
    },
    {
      "cell_type": "code",
      "source": [
        "import torch"
      ],
      "metadata": {
        "id": "0vfzn7y2rU_Z"
      },
      "execution_count": 1,
      "outputs": []
    },
    {
      "cell_type": "code",
      "source": [
        "t0=torch.tensor(8)\n",
        "print(t0)"
      ],
      "metadata": {
        "colab": {
          "base_uri": "https://localhost:8080/"
        },
        "id": "Hb3HIfEPswHi",
        "outputId": "7877a97c-ecc7-4ac9-dd5f-9d172ec22924"
      },
      "execution_count": 93,
      "outputs": [
        {
          "output_type": "stream",
          "name": "stdout",
          "text": [
            "tensor(8)\n"
          ]
        }
      ]
    },
    {
      "cell_type": "markdown",
      "source": [
        "2. Define a first-order tensor `t1` with 6 randomly sampled (Gaussian) values.\n",
        "\n",
        "   Multiply `t1` by `t0`.\n",
        "\n",
        "   What is the sum of the elements in `t1`?"
      ],
      "metadata": {
        "id": "fW9sZOEOrVcg"
      }
    },
    {
      "cell_type": "code",
      "source": [
        "\n",
        "# create the mean with 6 values\n",
        "mean = torch.tensor([1.0, 2.0, 3.0, 4.0, 5.0,6.0])\n",
        "\n",
        "# create the standard deviation with 6 values\n",
        "std = torch.tensor([1.22, 0.78, 0.56, 1.23, 0.23,0.9])\n",
        "t1= torch.normal(mean, std)\n",
        "print(t1)\n",
        "t1=t1*t0\n",
        "print(t1)\n",
        "# create normal distribution\n",
        "\n",
        "t1.sum()"
      ],
      "metadata": {
        "id": "0Sl5XE3TrpJK",
        "colab": {
          "base_uri": "https://localhost:8080/"
        },
        "outputId": "bae2d72b-83c2-4213-9254-fdfa69a0947d"
      },
      "execution_count": 94,
      "outputs": [
        {
          "output_type": "stream",
          "name": "stdout",
          "text": [
            "tensor([-0.0245,  2.1313,  3.9463,  3.4312,  5.0105,  6.3792])\n",
            "tensor([-0.1957, 17.0500, 31.5701, 27.4495, 40.0842, 51.0337])\n"
          ]
        },
        {
          "output_type": "execute_result",
          "data": {
            "text/plain": [
              "tensor(166.9919)"
            ]
          },
          "metadata": {},
          "execution_count": 94
        }
      ]
    },
    {
      "cell_type": "markdown",
      "source": [
        "3. Define a second-order tensor `t2` with 2 rows by transforming `t1` directly. \n",
        "\n",
        "   Now define a 2 X 2 X 3 third-order tensor `t3` by hand. Choose any numbers you like. "
      ],
      "metadata": {
        "id": "47rKFAYprpep"
      }
    },
    {
      "cell_type": "code",
      "source": [
        "t2=t1.reshape(2,3)\n",
        "print(t2)\n",
        "t3=torch.tensor([[[1,2,3],[2,3,4]],[[4,5,6],[5,3,2]]])\n",
        "print(t3)"
      ],
      "metadata": {
        "id": "qszz6hOVsRQd",
        "colab": {
          "base_uri": "https://localhost:8080/"
        },
        "outputId": "5a22fc92-3721-44e1-e7f2-35baa19ab04a"
      },
      "execution_count": 95,
      "outputs": [
        {
          "output_type": "stream",
          "name": "stdout",
          "text": [
            "tensor([[-0.1957, 17.0500, 31.5701],\n",
            "        [27.4495, 40.0842, 51.0337]])\n",
            "tensor([[[1, 2, 3],\n",
            "         [2, 3, 4]],\n",
            "\n",
            "        [[4, 5, 6],\n",
            "         [5, 3, 2]]])\n"
          ]
        }
      ]
    },
    {
      "cell_type": "markdown",
      "source": [
        "4. Define another first order tensor `t1a` with 6 randomly sampled (Gaussian) values. \n",
        "\n",
        "  Multiply `t1a` and `t1` element-wise (Hadamard product). "
      ],
      "metadata": {
        "id": "t598NDFGsWI-"
      }
    },
    {
      "cell_type": "code",
      "source": [
        "tla=torch.normal(mean=torch.arange(1., 7.), std=torch.arange(1, 0, -0.18))\n",
        "print(tla)\n",
        "print(t1*tla)"
      ],
      "metadata": {
        "id": "_Dz2e-IRs6oi",
        "colab": {
          "base_uri": "https://localhost:8080/"
        },
        "outputId": "80af78c4-b2b2-4afa-ea42-d69ea874ed1e"
      },
      "execution_count": 96,
      "outputs": [
        {
          "output_type": "stream",
          "name": "stdout",
          "text": [
            "tensor([0.1964, 1.2903, 3.1133, 4.3506, 4.8795, 5.8883])\n",
            "tensor([-3.8429e-02,  2.1999e+01,  9.8288e+01,  1.1942e+02,  1.9559e+02,\n",
            "         3.0050e+02])\n"
          ]
        }
      ]
    },
    {
      "cell_type": "markdown",
      "source": [
        "5. Define another first-order tensor `t1b` by taking every third value of `t1`.\n",
        "\n",
        "  Multiply `t2` by `t1b`."
      ],
      "metadata": {
        "id": "yIB5ZG8bs74H"
      }
    },
    {
      "cell_type": "code",
      "source": [
        "tlb=t1[2::3]\n",
        "print(tlb)\n",
        "t2=t2.reshape(3,2)\n",
        "t2\n",
        "torch.mv(t2,tlb)"
      ],
      "metadata": {
        "id": "IDUFzv1Vtelg",
        "colab": {
          "base_uri": "https://localhost:8080/"
        },
        "outputId": "deaeecf9-7cf8-40c5-f480-5c601c71bcf5"
      },
      "execution_count": 97,
      "outputs": [
        {
          "output_type": "stream",
          "name": "stdout",
          "text": [
            "tensor([31.5701, 51.0337])\n"
          ]
        },
        {
          "output_type": "execute_result",
          "data": {
            "text/plain": [
              "tensor([ 863.9487, 2397.5242, 3869.9038])"
            ]
          },
          "metadata": {},
          "execution_count": 97
        }
      ]
    },
    {
      "cell_type": "markdown",
      "source": [
        "6. Multiply `t2` by itself element-wise.\n",
        "\n",
        "   Now multiply `t2` by itself using Matrix-Matrix multiplication."
      ],
      "metadata": {
        "id": "XsYlDL3wth7z"
      }
    },
    {
      "cell_type": "code",
      "source": [
        "t2=t2.reshape(2,3)\n",
        "t2=t2*t2\n",
        "print(t2)\n",
        "torch.mm(t2,t2.reshape(3,2))"
      ],
      "metadata": {
        "id": "qHKj0WwguTs9",
        "colab": {
          "base_uri": "https://localhost:8080/"
        },
        "outputId": "34ac5fba-f9d3-49ef-c044-4cc9d8d23a24"
      },
      "execution_count": 98,
      "outputs": [
        {
          "output_type": "stream",
          "name": "stdout",
          "text": [
            "tensor([[3.8294e-02, 2.9070e+02, 9.9667e+02],\n",
            "        [7.5348e+02, 1.6067e+03, 2.6044e+03]])\n"
          ]
        },
        {
          "output_type": "execute_result",
          "data": {
            "text/plain": [
              "tensor([[1891135.6250, 2814825.7500],\n",
              "        [5786094.5000, 8212786.5000]])"
            ]
          },
          "metadata": {},
          "execution_count": 98
        }
      ]
    },
    {
      "cell_type": "markdown",
      "source": [
        "## Solve the following problems ($\\star$)\n",
        "\n",
        "\n",
        "---\n",
        "\n",
        "Write your answers using nice-looking $\\LaTeX$ vectors and matrices in the text box below each equation (see the accompanying tutorial if you are unfamiliar with $\\LaTeX$).\n",
        "\n",
        "**Avoid using `torch` if you can!** Simple Python mathematical operators should be enough."
      ],
      "metadata": {
        "id": "QifQ5pC3vEpv"
      }
    },
    {
      "cell_type": "markdown",
      "source": [
        "7. \n",
        "<br><br> \n",
        "$ \\begin{bmatrix} 6 \\\\ 2 \\\\ 5\\end{bmatrix} \\odot \\begin{bmatrix} 1 \\\\ 0 \\\\ 0.3 \\end{bmatrix} = $ \n"
      ],
      "metadata": {
        "id": "X20vLAKxvkNh"
      }
    },
    {
      "cell_type": "markdown",
      "source": [
        "**Your answer:**\n",
        "<br><br> \n",
        "$ \\begin{bmatrix} 6 \\\\ 0 \\\\ 1.5\\end{bmatrix}\n",
        "$"
      ],
      "metadata": {
        "id": "BDtMvNWaylRT"
      }
    },
    {
      "cell_type": "markdown",
      "source": [
        "8. \n",
        "<br><br> \n",
        "$ \\begin{bmatrix} 10 & 0.05 & -4 \\\\ 2 & 2 & 9 \\end{bmatrix} \\cdot \\begin{bmatrix} -0.1 \\\\ 5 \\\\ 1 \\end{bmatrix} = $\n"
      ],
      "metadata": {
        "id": "DUw7zcPvytal"
      }
    },
    {
      "cell_type": "markdown",
      "source": [
        "**Your answer:**\n",
        "$ \\begin{bmatrix} -4.75\\\\ 18.8 \\end{bmatrix}\n",
        "$"
      ],
      "metadata": {
        "id": "SUeNeQxn0qjQ"
      }
    },
    {
      "cell_type": "markdown",
      "source": [
        "## Which of the Linear Algebra functions are encoded by these neural nets? ($\\star\\star$)\n",
        "\n",
        "\n",
        "---\n",
        "\n",
        "\n",
        "\n",
        "**For each of the neural nets, enter the following information in the text box below:**\n",
        "- a plain-language description of the process that leads from the input to the output\n",
        "  - e.g., *An X is multiplied by a Y to produce a Z*   \n",
        "- the proper name for the relationship (where available), or a simple formula (e.g., X * Y)\n",
        "  - use proper terminology from linear algebra (scalar, vector, matrix)!\n",
        "\n",
        "<br>\n",
        "\n",
        "**Some hints about the notation used in the images:**\n",
        "- each circle **and** each line represent single numbers\n",
        "- each vertically oriented set of circles represents an *n*-dimensional vector\n",
        "- the **number of lines** *n* that come out of circle **on the right** represent an *n*-dimesional vector\n",
        "- **assume multiplication** between circles and lines\n",
        "- **Σ** means *summation of inputs* to that circle\n"
      ],
      "metadata": {
        "id": "yQzoLXx7k004"
      }
    },
    {
      "cell_type": "markdown",
      "source": [
        "9.\n",
        "\n",
        "<img src=\"https://github.com/nalester/LING_5410/blob/main/Fig_1.png?raw=true\">\n",
        "\n"
      ],
      "metadata": {
        "id": "XaZBNRqARF7t"
      }
    },
    {
      "cell_type": "markdown",
      "source": [
        "output=x*y"
      ],
      "metadata": {
        "id": "YatEsWuBk2yF"
      }
    },
    {
      "cell_type": "markdown",
      "source": [
        "10.\n",
        "\n",
        "<img src=\"https://github.com/nalester/LING_5410/blob/main/Fig_2.png?raw=true\">\n",
        "\n"
      ],
      "metadata": {
        "id": "SCDe9Su4kpyA"
      }
    },
    {
      "cell_type": "markdown",
      "source": [
        "output=x*y\n",
        "elementwise multiplication"
      ],
      "metadata": {
        "id": "SPKzOHz0pBwc"
      }
    },
    {
      "cell_type": "markdown",
      "source": [
        "11.\n",
        "\n",
        "<img src=\"https://github.com/nalester/LING_5410/blob/main/Fig_5.png?raw=true\">\n"
      ],
      "metadata": {
        "id": "xGR0E6bAkt32"
      }
    },
    {
      "cell_type": "markdown",
      "source": [
        "x.y\n",
        "dot product"
      ],
      "metadata": {
        "id": "uT573fMDpCsc"
      }
    },
    {
      "cell_type": "markdown",
      "source": [
        "12.\n",
        "\n",
        "<img src=\"https://github.com/nalester/LING_5410/blob/main/Fig_4.png?raw=true\">\n",
        "\n"
      ],
      "metadata": {
        "id": "uXwhRqUCksLp"
      }
    },
    {
      "cell_type": "markdown",
      "source": [
        "Matrix multiplication"
      ],
      "metadata": {
        "id": "S21FdkjVpDne"
      }
    },
    {
      "cell_type": "markdown",
      "source": [
        "## Write functions to solve the **AND**, **OR**, and **XOR** problems ($\\star\\star\\star$)\n",
        "\n",
        "\n",
        "---\n",
        "\n",
        "We revisit the logical problems of AND, OR, and XOR discussed in class. \n",
        "\n",
        "- Your task is to **define one function for each relationship** using the solutions we covered in class.\n",
        "\n",
        "- **Each function should take two arguments** `x1` and `x2` and return the appropriate truth value of 0 or 1.\n",
        "  - If you need a refresher on defining functions in Python, [here](https://www.w3schools.com/python/python_functions.asp) is a straightforward tutorial.\n",
        "\n",
        "- Do this using only tensors and the linear algebra we have learned in class! **No fancy `torch` solutions or otherwise!** Just the basics.\n",
        "  - It doesn't need to be elegant, so long as it gets the job done.\n",
        "\n",
        "- Demonstrate that your functions generate the expected output for all combinations of `x1` and `x2`.\n",
        "\n",
        "**Hint**: You can ignore the second bias in XOR (it's value will always be 0)\n"
      ],
      "metadata": {
        "id": "XUdz5hV_5p-9"
      }
    },
    {
      "cell_type": "markdown",
      "source": [
        "13. **AND**\n",
        "\n",
        "<center><img src=\"https://github.com/nalester/LING_5410/blob/main/Fig_and.png?raw=true\"></center>\n"
      ],
      "metadata": {
        "id": "0FMxJc-18ItZ"
      }
    },
    {
      "cell_type": "code",
      "source": [
        "def and_function(x1,x2):\n",
        "  "
      ],
      "metadata": {
        "id": "KobyY78D8b-i"
      },
      "execution_count": null,
      "outputs": []
    },
    {
      "cell_type": "markdown",
      "source": [
        "14. **OR**\n",
        "\n",
        "<center><img src=\"https://github.com/nalester/LING_5410/blob/main/Fig_or.png?raw=true\"></center>"
      ],
      "metadata": {
        "id": "hBFYixz58cNE"
      }
    },
    {
      "cell_type": "code",
      "source": [],
      "metadata": {
        "id": "4G17edhX8etp"
      },
      "execution_count": null,
      "outputs": []
    },
    {
      "cell_type": "markdown",
      "source": [
        "15. **XOR**\n",
        "\n",
        "<center><img src=\"https://github.com/nalester/LING_5410/blob/main/Fig_XOR.png?raw=true\"></center>"
      ],
      "metadata": {
        "id": "cQoFit0o8fUA"
      }
    },
    {
      "cell_type": "code",
      "source": [],
      "metadata": {
        "id": "gOkkYInj8kWZ"
      },
      "execution_count": null,
      "outputs": []
    }
  ]
}