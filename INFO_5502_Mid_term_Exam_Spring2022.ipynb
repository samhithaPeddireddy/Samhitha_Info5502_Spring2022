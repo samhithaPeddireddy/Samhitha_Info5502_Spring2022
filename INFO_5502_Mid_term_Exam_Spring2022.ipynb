{
  "cells": [
    {
      "cell_type": "markdown",
      "metadata": {
        "id": "view-in-github",
        "colab_type": "text"
      },
      "source": [
        "<a href=\"https://colab.research.google.com/github/samhithaPeddireddy/Samhitha_Info5502_Spring2022/blob/main/INFO_5502_Mid_term_Exam_Spring2022.ipynb\" target=\"_parent\"><img src=\"https://colab.research.google.com/assets/colab-badge.svg\" alt=\"Open In Colab\"/></a>"
      ]
    },
    {
      "cell_type": "markdown",
      "metadata": {
        "id": "_WHNZ2N2iN99"
      },
      "source": [
        "### INFO 5502 Mid-term Exam (03/10/2022, 80 points in total)"
      ]
    },
    {
      "cell_type": "markdown",
      "metadata": {
        "id": "kSc4LpZgiN9_"
      },
      "source": [
        "<span style='background:yellow'>**Question 1 (5 pt).**</span> Make an array called `weird_numbers` containing the following numbers (in the given order):\n",
        "\n",
        "1. -3\n",
        "2. the sine of 2.1\n",
        "3. 5\n",
        "4. 4 to the power of the cosine of 4.2\n",
        "\n",
        "*Hint:* `sin` and `cos` are functions in the `math` module."
      ]
    },
    {
      "cell_type": "code",
      "execution_count": null,
      "metadata": {
        "colab": {
          "base_uri": "https://localhost:8080/"
        },
        "id": "VHUfN32FiN9_",
        "outputId": "5e74b1c0-8c5a-4584-89eb-67d33b839979"
      },
      "outputs": [
        {
          "name": "stdout",
          "output_type": "stream",
          "text": [
            "0.8632093666488737 0.5067964617539602\n",
            "[-3, 0.8632093666488737, 5, 0.5067964617539602]\n",
            "array('d', [-3.0, 0.8632093666488737, 5.0, 0.5067964617539602])\n"
          ]
        }
      ],
      "source": [
        "#### You code here\n",
        "import numpy as np\n",
        "import math\n",
        "from array import *\n",
        "\n",
        "a=float(math.sin(2.1))\n",
        "weird_number=[]\n",
        "b=float(4**math.cos(4.2))\n",
        "print(a,b)\n",
        "weird_numbers=[-3,a,5,b]\n",
        "array_num = array('d',[-3,a,5,b])\n",
        "print(weird_numbers)\n",
        "print(array_num)\n",
        "\n",
        "\n",
        "\n"
      ]
    },
    {
      "cell_type": "markdown",
      "metadata": {
        "id": "W6qimgTjiN-B"
      },
      "source": [
        "<span style='background:yellow'>**Question 2 (5 pt).**</span> Write a simple function that takes in a number (weight in pounds) and returns a number which is the coreesponding conversion to kg.\n",
        "\n",
        "Test it by calling the function on 15 and 27. E.g., `convert_pounds_to_kg(15)`, `convert_pounds_to_kg(27)`. Print both to screen.\n",
        "\n",
        "Hint: 1 pound = 0.453592 kg"
      ]
    },
    {
      "cell_type": "code",
      "execution_count": null,
      "metadata": {
        "colab": {
          "base_uri": "https://localhost:8080/"
        },
        "id": "uKWR0bHBiN-B",
        "outputId": "ece02fa6-8d6d-42d6-8c07-9f20cc569e20"
      },
      "outputs": [
        {
          "name": "stdout",
          "output_type": "stream",
          "text": [
            "6.8038799999999995\n",
            "12.246984\n"
          ]
        }
      ],
      "source": [
        "#### You code here\n",
        "import math\n",
        "\n",
        "def convert_pounds_to_kg(number):\n",
        "    return number*0.453592\n",
        "    \"\"\"Converts a number in pounds to kg.\"\"\"\n",
        "    ...\n",
        "\n",
        "    \n",
        "    \n",
        "print(convert_pounds_to_kg(15))\n",
        "print(convert_pounds_to_kg(27))\n"
      ]
    },
    {
      "cell_type": "markdown",
      "metadata": {
        "id": "fJjPbRwWiN-C"
      },
      "source": [
        "<span style='background:yellow'>**Question 3 (5 pt).**</span> We've loaded an array of temperatures in the next cell.  Each number is the highest temperature observed on a day at a climate observation station, mostly from the US.  Since they're from the US government agency [NOAA](noaa.gov), all the temperatures are in Fahrenheit.  Convert them all to Celsius by first subtracting 32 from them, then multiplying the results by $\\frac{5}{9}$. Make sure to **ROUND** the final result after converting to Celsius to the nearest integer using the `np.round` function. Download the data from here: https://github.com/unt-iialab/info5502-spring2022/blob/main/datasets/temperatures.csv"
      ]
    },
    {
      "cell_type": "code",
      "execution_count": 56,
      "metadata": {
        "colab": {
          "base_uri": "https://localhost:8080/"
        },
        "id": "K-3NWhvWiN-C",
        "outputId": "0bfc9612-9984-4664-8097-c2512e3f8565"
      },
      "outputs": [
        {
          "output_type": "execute_result",
          "data": {
            "text/plain": [
              "array([-4., 31., 32., ..., 17., 23., 16.])"
            ]
          },
          "metadata": {},
          "execution_count": 56
        }
      ],
      "source": [
        "#### You code here\n",
        "from datascience import *\n",
        "import math\n",
        "import numpy as np\n",
        "\n",
        "max_temperatures = Table.read_table(\"temperatures.csv\").column(\"Daily Max Temperature\")\n",
        "celsius_max_temperatures=np.round((max_temperatures-32)*(5/9))\n",
        "...\n",
        "\n",
        "celsius_max_temperatures\n",
        "\n"
      ]
    },
    {
      "cell_type": "markdown",
      "metadata": {
        "id": "o336Jif7iN-D"
      },
      "source": [
        "<span style='background:yellow'>**Question 4 (5 pt).**</span> Suppose you have 4 apples, 3 oranges, and 3 pineapples.  (Perhaps you're using Python to solve a high school Algebra problem.)  Create a table that contains this information.  It should have two columns: `fruit name` and `count`.  Assign the new table to the variable `fruits`.\n",
        "\n",
        "**Note:** Use lower-case and singular words for the name of each fruit, like `\"apple\"`."
      ]
    },
    {
      "cell_type": "code",
      "execution_count": null,
      "metadata": {
        "colab": {
          "base_uri": "https://localhost:8080/",
          "height": 142
        },
        "id": "oTtVw7P5iN-D",
        "outputId": "00774fc8-699f-44ba-89a4-575f2319b3d4"
      },
      "outputs": [
        {
          "data": {
            "text/html": [
              "<table border=\"1\" class=\"dataframe\">\n",
              "    <thead>\n",
              "        <tr>\n",
              "            <th>Fruit Name</th> <th>Count</th>\n",
              "        </tr>\n",
              "    </thead>\n",
              "    <tbody>\n",
              "        <tr>\n",
              "            <td>Apple     </td> <td>4    </td>\n",
              "        </tr>\n",
              "        <tr>\n",
              "            <td>Orange    </td> <td>3    </td>\n",
              "        </tr>\n",
              "        <tr>\n",
              "            <td>Pineapple </td> <td>3    </td>\n",
              "        </tr>\n",
              "    </tbody>\n",
              "</table>"
            ],
            "text/plain": [
              "Fruit Name | Count\n",
              "Apple      | 4\n",
              "Orange     | 3\n",
              "Pineapple  | 3"
            ]
          },
          "execution_count": 28,
          "metadata": {},
          "output_type": "execute_result"
        }
      ],
      "source": [
        "#### You code here\n",
        "from array import *\n",
        "from datascience import *\n",
        "\n",
        "fruits = Table().with_columns('Fruit Name',make_array('Apple','Orange','Pineapple'),'Count',make_array(4,3,3))\n",
        "fruits"
      ]
    },
    {
      "cell_type": "markdown",
      "metadata": {
        "id": "Wy8ZjkXwiN-E"
      },
      "source": [
        "<span style='background:yellow'>**Question 5 (10 pt).**</span> Below we load a table containing 200,000 weekday Uber rides in the Boston, Massachusetts metropolitan area from the [Uber Movement](https://movement.uber.com) project. The `sourceid` and `dstid` columns contain codes corresponding to start and end locations of each ride. The `hod` column contains codes corresponding to the hour of the day the ride took place. The `ride time` column contains the length of the ride, in minutes. Produce a histogram of all ride times in Boston using the given bins. Download the data from here: https://github.com/unt-iialab/info5502-spring2022/blob/main/datasets/boston.csv"
      ]
    },
    {
      "cell_type": "code",
      "execution_count": 40,
      "metadata": {
        "colab": {
          "base_uri": "https://localhost:8080/",
          "height": 233
        },
        "id": "mdFf0YgqiN-E",
        "outputId": "53406140-ecb8-42de-fb97-627f1aa9eb4a"
      },
      "outputs": [
        {
          "output_type": "display_data",
          "data": {
            "text/html": [
              "<table border=\"1\" class=\"dataframe\">\n",
              "    <thead>\n",
              "        <tr>\n",
              "            <th>sourceid</th> <th>dstid</th> <th>hod</th> <th>ride time</th>\n",
              "        </tr>\n",
              "    </thead>\n",
              "    <tbody>\n",
              "        <tr>\n",
              "            <td>584     </td> <td>33   </td> <td>7   </td> <td>11.866   </td>\n",
              "        </tr>\n",
              "        <tr>\n",
              "            <td>1013    </td> <td>1116 </td> <td>13  </td> <td>17.7993  </td>\n",
              "        </tr>\n",
              "        <tr>\n",
              "            <td>884     </td> <td>1190 </td> <td>22  </td> <td>19.3488  </td>\n",
              "        </tr>\n",
              "        <tr>\n",
              "            <td>211     </td> <td>364  </td> <td>1   </td> <td>1.7235   </td>\n",
              "        </tr>\n",
              "        <tr>\n",
              "            <td>218     </td> <td>1189 </td> <td>7   </td> <td>42.5588  </td>\n",
              "        </tr>\n",
              "    </tbody>\n",
              "</table>\n",
              "<p>... (199995 rows omitted)</p>"
            ],
            "text/plain": [
              "<IPython.core.display.HTML object>"
            ]
          },
          "metadata": {}
        }
      ],
      "source": [
        "#### You code here\n",
        "import numpy as np\n",
        "import matplotlib.pyplot as plt\n",
        "from matplotlib import colors\n",
        "\n",
        "boston=Table.read_table(\"boston.csv\")\n",
        "boston.show(5)\n",
        "\n",
        "\n",
        "\n",
        "\n"
      ]
    },
    {
      "cell_type": "code",
      "source": [
        "import matplotlib.pyplot as plt\n",
        "%matplotlib inline\n",
        "from matplotlib import colors\n",
        "\n",
        "\n",
        "#tips_filtered = boston.reset_index()\n",
        "equal_bins=np.arange(0,50,5)\n",
        "plt.hist(boston['ride time'],equal_bins, color='r', edgecolor='black')\n",
        "plt.xlabel(\"Ride Time(Mins)\")\n",
        "plt.ylabel(\"Count\")\n",
        "\n",
        "plt.title('Uber rides')\n",
        " \n",
        "# Show plot\n",
        "plt.show()\n"
      ],
      "metadata": {
        "colab": {
          "base_uri": "https://localhost:8080/",
          "height": 295
        },
        "id": "_ETn-HQg2qCr",
        "outputId": "68ed4929-d4dd-4b55-8212-f8dcfb0515dc"
      },
      "execution_count": 63,
      "outputs": [
        {
          "output_type": "display_data",
          "data": {
            "image/png": "[encoded data removed]",
            "text/plain": [
              "<Figure size 432x288 with 1 Axes>"
            ]
          },
          "metadata": {
            "needs_background": "light"
          }
        }
      ]
    },
    {
      "cell_type": "markdown",
      "metadata": {
        "id": "pRuUnk50iN-E"
      },
      "source": [
        "# <span style='background:yellow'>**Question 6 (20 pt).**</span> Below is a dataset we collected from this website: https://ddr.densho.org/narrators/?page=1. Narrators are the interview subjects of oral histories contained in the Densho Digital Repository. The interviewees, or narrators, share their life histories to preserve history, educate the public, and promote tolerance. We urge our users to approach these materials in the same spirit. You are required to conduct the exploratory data analysis on the location, year of born, generation, and gender. Please select the best visualiztions to present your results. Download the data from here: https://github.com/unt-iialab/info5502-spring2022/blob/main/datasets/Combined-data.xlsx"
      ]
    },
    {
      "cell_type": "code",
      "execution_count": 108,
      "metadata": {
        "id": "l70OdF23iN-F",
        "colab": {
          "base_uri": "https://localhost:8080/",
          "height": 1000
        },
        "outputId": "ff3d0519-ae5b-4048-e12e-0fa7639c92d6"
      },
      "outputs": [
        {
          "output_type": "stream",
          "name": "stdout",
          "text": [
            "Narrators are maximum from this location:  California\n",
            "Narrators are minimum from this gender:  female\n",
            "Narrators are maximum from this Generation:  Nisei\n",
            "Narrators are minimum from this year:  1950.0\n"
          ]
        },
        {
          "output_type": "display_data",
          "data": {
            "image/png": "[encoded data removed]",
            "text/plain": [
              "<Figure size 1080x720 with 1 Axes>"
            ]
          },
          "metadata": {
            "needs_background": "light"
          }
        },
        {
          "output_type": "display_data",
          "data": {
            "image/png": "[encoded data removed]",
            "text/plain": [
              "<Figure size 1080x720 with 1 Axes>"
            ]
          },
          "metadata": {
            "needs_background": "light"
          }
        },
        {
          "output_type": "display_data",
          "data": {
            "image/png": "[encoded data removed]",
            "text/plain": [
              "<Figure size 1080x720 with 1 Axes>"
            ]
          },
          "metadata": {
            "needs_background": "light"
          }
        }
      ],
      "source": [
        "#### You code here\n",
        "\n",
        "import pandas as pd\n",
        "import seaborn as sns\n",
        "\n",
        "df=pd.read_excel('/content/Combined-data.xlsx')\n",
        "df.head()\n",
        "df.shape\n",
        "df.describe()\n",
        "df.isnull().sum()\n",
        "df.dropna()\n",
        "print('Narrators are maximum from this location: ',df['Location'].value_counts().idxmax())\n",
        "print('Narrators are minimum from this gender: ',df['Gender'].value_counts().idxmin())\n",
        "print('Narrators are maximum from this Generation: ',df['Generation'].value_counts().idxmax())\n",
        "print('Narrators are minimum from this year: ',df['Year'].value_counts().idxmin())\n",
        "\n",
        "\n",
        "#Barplot\n",
        "\n",
        "\n",
        "x_year = df['Year'].unique()\n",
        "y_year = df['Year'].value_counts(dropna=False).sort_index()\n",
        "plt.figure(figsize=(15,10))\n",
        "plt.title(\"Narrators in Years\")\n",
        "plt.xlabel(\"Years\")\n",
        "plt.ylabel(\"Number of narrators each year\")\n",
        "plt.xticks(rotation=45)\n",
        "sns.barplot(x=x_year, y=y_year, palette= 'rocket')\n",
        "plt.show()\n",
        "\n",
        "x_loc = df['Location'].unique()\n",
        "y_loc = df['Location'].value_counts(dropna=False).sort_index()\n",
        "plt.figure(figsize=(15,10))\n",
        "plt.title(\"Narrators from location\")\n",
        "plt.xlabel(\"Location\")\n",
        "plt.ylabel(\"Number of narrators each Location\")\n",
        "plt.xticks(rotation=45)\n",
        "sns.barplot(x=x_loc, y=y_loc, palette= 'rocket')\n",
        "plt.show()\n",
        "\n",
        "x_g = df['Gender'].unique()\n",
        "y_g = df['Gender'].value_counts(dropna=False).sort_index()\n",
        "plt.figure(figsize=(15,10))\n",
        "plt.title(\"Narrators based on gender\")\n",
        "plt.xlabel(\"Gneder\")\n",
        "plt.ylabel(\"Number of narrators each Gender\")\n",
        "plt.xticks(rotation=45)\n",
        "sns.barplot(x=x_g, y=y_g, palette= 'rocket')\n",
        "plt.show()\n",
        "\n",
        "\n",
        "\n",
        "\n",
        "\n",
        "\n",
        "\n",
        "\n",
        "\n"
      ]
    },
    {
      "cell_type": "markdown",
      "metadata": {
        "id": "vA1idRQdiN-F"
      },
      "source": [
        "<span style='background:yellow'>**Question 7.**</span> **Monkeys Typing Shakespeare** A monkey is banging repeatedly on the keys of a typewriter. Each time, the monkey is equally likely to hit any of the 26 lowercase letters of the English alphabet, 26 uppercase letters of the English alphabet, and any number between 0-9 (inclusive), regardless of what it has hit before. There are no other keys on the keyboard.  \n",
        "\n",
        "This question is inspired by a mathematical theorem called the Infinite monkey theorem (<https://en.wikipedia.org/wiki/Infinite_monkey_theorem>), which postulates that if you put a monkey in the situation described above for an infinite time, they will eventually type out all of Shakespeare’s works."
      ]
    },
    {
      "cell_type": "markdown",
      "metadata": {
        "id": "8PnOIYXAiN-F"
      },
      "source": [
        "<span style='background:yellow'>**Question 7-1 (10 pt).**</span> Suppose the monkey hits the keyboard 5 times.  Compute the chance that the monkey types the sequence `Data8`.  (Call this `data_chance`.) Use algebra and type in an arithmetic equation that Python can evalute."
      ]
    },
    {
      "cell_type": "code",
      "execution_count": 81,
      "metadata": {
        "id": "KebzQNaSiN-G",
        "colab": {
          "base_uri": "https://localhost:8080/"
        },
        "outputId": "9af89482-97f4-4541-8969-4610973fa31f"
      },
      "outputs": [
        {
          "output_type": "execute_result",
          "data": {
            "text/plain": [
              "1.0915447684774164e-09"
            ]
          },
          "metadata": {},
          "execution_count": 81
        }
      ],
      "source": [
        "#### You code here\n",
        "import math\n",
        "\n",
        "data_chance=pow((1/62),5)\n",
        "data_chance\n",
        "\n",
        "\n",
        "\n"
      ]
    },
    {
      "cell_type": "markdown",
      "metadata": {
        "id": "ViXMZKXBiN-G"
      },
      "source": [
        "<span style='background:yellow'>**Question 7-2 (10 pt).**</span> Write a function called `simulate_key_strike`.  It should take **no arguments**, and it should return a random one-character string that is equally likely to be any of the 26 lower-case English letters, 26 upper-case English letters, or any number between 0-9 (inclusive). "
      ]
    },
    {
      "cell_type": "code",
      "execution_count": 76,
      "metadata": {
        "id": "n3Hqbux-iN-G",
        "colab": {
          "base_uri": "https://localhost:8080/",
          "height": 37
        },
        "outputId": "0c9a1bd7-9ac1-4980-955d-186273372fcf"
      },
      "outputs": [
        {
          "output_type": "execute_result",
          "data": {
            "application/vnd.google.colaboratory.intrinsic+json": {
              "type": "string"
            },
            "text/plain": [
              "'R'"
            ]
          },
          "metadata": {},
          "execution_count": 76
        }
      ],
      "source": [
        "#### You code here\n",
        "import string\n",
        "from numpy import random\n",
        "\n",
        "k=list(string.ascii_letters+string.digits)\n",
        "\n",
        "def simulate_key_strike():\n",
        "    ran=random.choice(k)\n",
        "    return ran\n",
        "\n",
        "simulate_key_strike()\n",
        "\n",
        "\n",
        "\n"
      ]
    },
    {
      "cell_type": "markdown",
      "metadata": {
        "id": "bmLdQhJYiN-H"
      },
      "source": [
        "<span style='background:yellow'>**Question 7-3 (10 pt).**</span> Write a function called `simulate_several_key_strikes`.  It should take one argument: an integer specifying the number of key strikes to simulate. It should return a string containing that many characters, each one obtained from simulating a key strike by the monkey.\n",
        "\n",
        "*Hint:* If you make a list or array of the simulated key strikes called `key_strikes_array`, you can convert that to a string by calling `\"\".join(key_strikes_array)`"
      ]
    },
    {
      "cell_type": "code",
      "execution_count": 91,
      "metadata": {
        "id": "x2ffo5y7iN-H",
        "colab": {
          "base_uri": "https://localhost:8080/"
        },
        "outputId": "4f3eb916-d4b3-4c44-ea37-55048a02b0b1"
      },
      "outputs": [
        {
          "output_type": "execute_result",
          "data": {
            "text/plain": [
              "<generator object simulate_several_key_strikes.<locals>.<genexpr> at 0x7f07c9186250>"
            ]
          },
          "metadata": {},
          "execution_count": 91
        }
      ],
      "source": [
        "#### You code here\n",
        "from numpy import random\n",
        "import string\n",
        "\n",
        "k=list(string.ascii_letters+string.digits)\n",
        "\n",
        "def simulate_several_key_strikes(n):\n",
        "  return(\"\".join(np.random.choice(k)) for j in range(n))\n",
        "\n",
        "simulate_several_key_strikes(20)\n",
        "\n",
        "\n",
        "\n",
        "\n"
      ]
    }
  ],
  "metadata": {
    "colab": {
      "collapsed_sections": [],
      "name": "INFO 5502-Mid-term Exam-Spring2022.ipynb",
      "provenance": [],
      "include_colab_link": true
    },
    "kernelspec": {
      "display_name": "Python 3",
      "language": "python",
      "name": "python3"
    },
    "language_info": {
      "codemirror_mode": {
        "name": "ipython",
        "version": 3
      },
      "file_extension": ".py",
      "mimetype": "text/x-python",
      "name": "python",
      "nbconvert_exporter": "python",
      "pygments_lexer": "ipython3",
      "version": "3.8.5"
    }
  },
  "nbformat": 4,
  "nbformat_minor": 0
}