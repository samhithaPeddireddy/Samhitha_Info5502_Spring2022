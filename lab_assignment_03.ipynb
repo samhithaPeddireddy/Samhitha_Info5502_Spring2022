{
  "cells": [
    {
      "cell_type": "markdown",
      "metadata": {
        "id": "view-in-github",
        "colab_type": "text"
      },
      "source": [
        "<a href=\"https://colab.research.google.com/github/samhithaPeddireddy/Samhitha_Info5502_Spring2022/blob/main/lab_assignment_03.ipynb\" target=\"_parent\"><img src=\"https://colab.research.google.com/assets/colab-badge.svg\" alt=\"Open In Colab\"/></a>"
      ]
    },
    {
      "cell_type": "markdown",
      "metadata": {
        "id": "-ppGqBoiodlQ"
      },
      "source": [
        "## The third Lab-assignment (02/10/2022, 50 points in total)"
      ]
    },
    {
      "cell_type": "markdown",
      "metadata": {
        "id": "XF5zScWGodlS"
      },
      "source": [
        "The purpose of this exercise is to understand users' information needs, then collect data from different sources for analysis."
      ]
    },
    {
      "cell_type": "markdown",
      "metadata": {
        "id": "K5mUCbHVodlS"
      },
      "source": [
        "Question 1 (10 points). Fomulate your domain problem: Describe an interesting research question (or practical question) you have in mind, what kind of data should be collected to answer the question(s)? How many data needed for the analysis? The detail steps for collecting and save the data. "
      ]
    },
    {
      "cell_type": "code",
      "execution_count": null,
      "metadata": {
        "id": "512m1Sf5odlT"
      },
      "outputs": [],
      "source": [
        "# Your answer here (no code for this question, write down your answer as detail as possible for the above questions):\n",
        "\n",
        "'''\n",
        "Please write you answer here:\n",
        "\n",
        "Here, I want to check the non fiction books to read based on their rating.\n",
        "I used Good reads website to extract data.Good reads contains books of different genres, \n",
        "theirs authors and their ratings which are given by user.I first selected the good reads website \n",
        "and used web scraping method to extract the same.Firstly, i have imported requests library to read the data from URL and used for loop to go through all the pages present.\n",
        "Then i have used beautifulsoup library to extract data from html files.\n",
        "i have created a table to define a table (based on HTML element)for the soup to read,then stored the data like- name of the author,name of the book,\n",
        "ratings based on HTML elements and appended them.Finally i have used dataframes from pandas library to display it as table.\n",
        "I have downloaded the data and displayed sample records to check.\n",
        "\n",
        "\n",
        "\n",
        "'''"
      ]
    },
    {
      "cell_type": "markdown",
      "metadata": {
        "id": "biw2UYWKodlU"
      },
      "source": [
        "Question 2 (10 points). Collect your data to answer the research problem: Write python code to collect 1000 data samples you discussed above."
      ]
    },
    {
      "cell_type": "code",
      "execution_count": null,
      "metadata": {
        "colab": {
          "base_uri": "https://localhost:8080/"
        },
        "id": "D-YWxG1nodlU",
        "outputId": "1bdf1587-7fb3-4ff8-8aed-1abfaf16b31a"
      },
      "outputs": [
        {
          "output_type": "stream",
          "name": "stdout",
          "text": [
            "Page 1 completed in 3.912221908569336 seconds\n",
            "Page 2 completed in 3.841020107269287 seconds\n",
            "Page 3 completed in 3.7290008068084717 seconds\n",
            "Page 4 completed in 3.8081612586975098 seconds\n",
            "Page 5 completed in 3.858104944229126 seconds\n",
            "Page 6 completed in 3.224539279937744 seconds\n",
            "Page 7 completed in 3.3415215015411377 seconds\n",
            "Page 8 completed in 3.0689809322357178 seconds\n",
            "Page 9 completed in 5.2026989459991455 seconds\n",
            "Page 10 completed in 4.350251197814941 seconds\n",
            "Page 11 completed in 4.261441946029663 seconds\n",
            "Page 12 completed in 4.1969757080078125 seconds\n",
            "Page 13 completed in 3.477792263031006 seconds\n",
            "Page 14 completed in 4.8484885692596436 seconds\n",
            "Page 15 completed in 3.7048399448394775 seconds\n",
            "Page 16 completed in 3.8795995712280273 seconds\n",
            "Page 17 completed in 3.7924978733062744 seconds\n",
            "Page 18 completed in 4.254313707351685 seconds\n",
            "Page 19 completed in 3.936734914779663 seconds\n",
            "Page 20 completed in 4.826011657714844 seconds\n",
            "Page 21 completed in 3.7713632583618164 seconds\n",
            "Page 22 completed in 3.8659393787384033 seconds\n",
            "Page 23 completed in 3.883521795272827 seconds\n",
            "Page 24 completed in 3.976466178894043 seconds\n",
            "Page 25 completed in 3.55798602104187 seconds\n"
          ]
        }
      ],
      "source": [
        "# You code here (Please add comments in the code)\n",
        "\n",
        "import pandas as pd\n",
        "import numpy as np\n",
        "\n",
        "\n",
        "import requests\n",
        "from bs4 import BeautifulSoup\n",
        "\n",
        "import re\n",
        "import time\n",
        "\n",
        "bookname = []\n",
        "authorname = []\n",
        "ratings = []\n",
        "pagenum= []\n",
        "\n",
        "\n",
        "for i in range(1,26): # go throught the 23 pages\n",
        "    start_time = time.time()\n",
        "    URL = 'https://www.goodreads.com/list/show/10048.Non_fiction_Something_for_Everyone?page={}'.format(i)\n",
        "    page = requests.get(URL)\n",
        "    pagecontent = page.text\n",
        "    soup = BeautifulSoup(pagecontent)\n",
        "    right_table=soup.find('table', class_='tableList js-dataTooltip')\n",
        "    \n",
        "    for row in right_table.findAll(\"tr\"):\n",
        "        name = row.find('span', attrs = {'itemprop':'name'})\n",
        "        author = row.find('a', attrs = {'class':'authorName'})\n",
        "        rating = row.find('span', attrs = {'class':'minirating'})\n",
        "        bookname.append(name.text)\n",
        "        authorname.append(author.text)\n",
        "        ratings.append(rating.text)\n",
        "        \n",
        "            \n",
        "        pagenum.append(i)\n",
        "\n",
        "    print('Page {} completed in {} seconds'.format(i, time.time()-start_time))\n",
        "\n",
        "\n",
        "\n",
        "\n",
        "\n",
        "\n"
      ]
    },
    {
      "cell_type": "code",
      "source": [
        "print(len(bookname))\n",
        "print(len(authorname))\n",
        "print(len(ratings))\n",
        "print(len(pagenum))"
      ],
      "metadata": {
        "colab": {
          "base_uri": "https://localhost:8080/"
        },
        "id": "AbwSNh940vCJ",
        "outputId": "c5a7d633-3ef1-495e-f6f6-5eec7f40b0ea"
      },
      "execution_count": null,
      "outputs": [
        {
          "output_type": "stream",
          "name": "stdout",
          "text": [
            "2300\n",
            "2300\n",
            "2300\n",
            "23\n"
          ]
        }
      ]
    },
    {
      "cell_type": "code",
      "source": [
        "books_df = pd.DataFrame({'BookName':bookname, 'authorname':authorname, 'ratings': ratings, 'PageNo': pagenum})\n"
      ],
      "metadata": {
        "id": "QSs9ymRCFaQ5"
      },
      "execution_count": null,
      "outputs": []
    },
    {
      "cell_type": "code",
      "source": [
        "books_df.to_csv(r'Users\\samhithapeddireddy\\Downloads\\.csv')\n",
        "\n",
        "books_df.head()\n"
      ],
      "metadata": {
        "colab": {
          "base_uri": "https://localhost:8080/",
          "height": 204
        },
        "id": "f6ZbbS_QSYLU",
        "outputId": "0efa8cd9-2cd1-4b0b-9adf-18c1d06ecde3"
      },
      "execution_count": null,
      "outputs": [
        {
          "output_type": "execute_result",
          "data": {
            "text/html": [
              "\n",
              "  <div id=\"df-5d62aaea-b256-4541-a06d-fb8a73b223d2\">\n",
              "    <div class=\"colab-df-container\">\n",
              "      <div>\n",
              "<style scoped>\n",
              "    .dataframe tbody tr th:only-of-type {\n",
              "        vertical-align: middle;\n",
              "    }\n",
              "\n",
              "    .dataframe tbody tr th {\n",
              "        vertical-align: top;\n",
              "    }\n",
              "\n",
              "    .dataframe thead th {\n",
              "        text-align: right;\n",
              "    }\n",
              "</style>\n",
              "<table border=\"1\" class=\"dataframe\">\n",
              "  <thead>\n",
              "    <tr style=\"text-align: right;\">\n",
              "      <th></th>\n",
              "      <th>BookName</th>\n",
              "      <th>authorname</th>\n",
              "      <th>ratings</th>\n",
              "      <th>PageNo</th>\n",
              "    </tr>\n",
              "  </thead>\n",
              "  <tbody>\n",
              "    <tr>\n",
              "      <th>0</th>\n",
              "      <td>The Diary of a Young Girl</td>\n",
              "      <td>Anne Frank</td>\n",
              "      <td>4.17 avg rating — 3,186,173 ratings</td>\n",
              "      <td>1</td>\n",
              "    </tr>\n",
              "    <tr>\n",
              "      <th>1</th>\n",
              "      <td>Muhammad, the World-Changer: An Intimate Portrait</td>\n",
              "      <td>Mohamad Jebara</td>\n",
              "      <td>4.88 avg rating — 363 ratings</td>\n",
              "      <td>1</td>\n",
              "    </tr>\n",
              "    <tr>\n",
              "      <th>2</th>\n",
              "      <td>Guns, Germs, and Steel: The Fates of Human Soc...</td>\n",
              "      <td>Jared Diamond</td>\n",
              "      <td>4.04 avg rating — 353,491 ratings</td>\n",
              "      <td>1</td>\n",
              "    </tr>\n",
              "    <tr>\n",
              "      <th>3</th>\n",
              "      <td>A Brief History of Time</td>\n",
              "      <td>Stephen Hawking</td>\n",
              "      <td>4.19 avg rating — 366,486 ratings</td>\n",
              "      <td>1</td>\n",
              "    </tr>\n",
              "    <tr>\n",
              "      <th>4</th>\n",
              "      <td>Why They Stay: Sex Scandals, Deals, and Hidden...</td>\n",
              "      <td>Anne Michaud</td>\n",
              "      <td>4.32 avg rating — 5,277 ratings</td>\n",
              "      <td>1</td>\n",
              "    </tr>\n",
              "  </tbody>\n",
              "</table>\n",
              "</div>\n",
              "      <button class=\"colab-df-convert\" onclick=\"convertToInteractive('df-5d62aaea-b256-4541-a06d-fb8a73b223d2')\"\n",
              "              title=\"Convert this dataframe to an interactive table.\"\n",
              "              style=\"display:none;\">\n",
              "        \n",
              "  <svg xmlns=\"http://www.w3.org/2000/svg\" height=\"24px\"viewBox=\"0 0 24 24\"\n",
              "       width=\"24px\">\n",
              "    <path d=\"M0 0h24v24H0V0z\" fill=\"none\"/>\n",
              "    <path d=\"M18.56 5.44l.94 2.06.94-2.06 2.06-.94-2.06-.94-.94-2.06-.94 2.06-2.06.94zm-11 1L8.5 8.5l.94-2.06 2.06-.94-2.06-.94L8.5 2.5l-.94 2.06-2.06.94zm10 10l.94 2.06.94-2.06 2.06-.94-2.06-.94-.94-2.06-.94 2.06-2.06.94z\"/><path d=\"M17.41 7.96l-1.37-1.37c-.4-.4-.92-.59-1.43-.59-.52 0-1.04.2-1.43.59L10.3 9.45l-7.72 7.72c-.78.78-.78 2.05 0 2.83L4 21.41c.39.39.9.59 1.41.59.51 0 1.02-.2 1.41-.59l7.78-7.78 2.81-2.81c.8-.78.8-2.07 0-2.86zM5.41 20L4 18.59l7.72-7.72 1.47 1.35L5.41 20z\"/>\n",
              "  </svg>\n",
              "      </button>\n",
              "      \n",
              "  <style>\n",
              "    .colab-df-container {\n",
              "      display:flex;\n",
              "      flex-wrap:wrap;\n",
              "      gap: 12px;\n",
              "    }\n",
              "\n",
              "    .colab-df-convert {\n",
              "      background-color: #E8F0FE;\n",
              "      border: none;\n",
              "      border-radius: 50%;\n",
              "      cursor: pointer;\n",
              "      display: none;\n",
              "      fill: #1967D2;\n",
              "      height: 32px;\n",
              "      padding: 0 0 0 0;\n",
              "      width: 32px;\n",
              "    }\n",
              "\n",
              "    .colab-df-convert:hover {\n",
              "      background-color: #E2EBFA;\n",
              "      box-shadow: 0px 1px 2px rgba(60, 64, 67, 0.3), 0px 1px 3px 1px rgba(60, 64, 67, 0.15);\n",
              "      fill: #174EA6;\n",
              "    }\n",
              "\n",
              "    [theme=dark] .colab-df-convert {\n",
              "      background-color: #3B4455;\n",
              "      fill: #D2E3FC;\n",
              "    }\n",
              "\n",
              "    [theme=dark] .colab-df-convert:hover {\n",
              "      background-color: #434B5C;\n",
              "      box-shadow: 0px 1px 3px 1px rgba(0, 0, 0, 0.15);\n",
              "      filter: drop-shadow(0px 1px 2px rgba(0, 0, 0, 0.3));\n",
              "      fill: #FFFFFF;\n",
              "    }\n",
              "  </style>\n",
              "\n",
              "      <script>\n",
              "        const buttonEl =\n",
              "          document.querySelector('#df-5d62aaea-b256-4541-a06d-fb8a73b223d2 button.colab-df-convert');\n",
              "        buttonEl.style.display =\n",
              "          google.colab.kernel.accessAllowed ? 'block' : 'none';\n",
              "\n",
              "        async function convertToInteractive(key) {\n",
              "          const element = document.querySelector('#df-5d62aaea-b256-4541-a06d-fb8a73b223d2');\n",
              "          const dataTable =\n",
              "            await google.colab.kernel.invokeFunction('convertToInteractive',\n",
              "                                                     [key], {});\n",
              "          if (!dataTable) return;\n",
              "\n",
              "          const docLinkHtml = 'Like what you see? Visit the ' +\n",
              "            '<a target=\"_blank\" href=https://colab.research.google.com/notebooks/data_table.ipynb>data table notebook</a>'\n",
              "            + ' to learn more about interactive tables.';\n",
              "          element.innerHTML = '';\n",
              "          dataTable['output_type'] = 'display_data';\n",
              "          await google.colab.output.renderOutput(dataTable, element);\n",
              "          const docLink = document.createElement('div');\n",
              "          docLink.innerHTML = docLinkHtml;\n",
              "          element.appendChild(docLink);\n",
              "        }\n",
              "      </script>\n",
              "    </div>\n",
              "  </div>\n",
              "  "
            ],
            "text/plain": [
              "                                            BookName  ... PageNo\n",
              "0                          The Diary of a Young Girl  ...      1\n",
              "1  Muhammad, the World-Changer: An Intimate Portrait  ...      1\n",
              "2  Guns, Germs, and Steel: The Fates of Human Soc...  ...      1\n",
              "3                            A Brief History of Time  ...      1\n",
              "4  Why They Stay: Sex Scandals, Deals, and Hidden...  ...      1\n",
              "\n",
              "[5 rows x 4 columns]"
            ]
          },
          "metadata": {},
          "execution_count": 164
        }
      ]
    },
    {
      "cell_type": "markdown",
      "metadata": {
        "id": "AYOq5xU1odlV"
      },
      "source": [
        "Question 3 (10 points). Understand the data quality: Search a second hand dataset (any dataset) from kaggle or other websites. Describe the data quality problem of the dataset and explain your strtegy to clean the data."
      ]
    },
    {
      "cell_type": "code",
      "execution_count": null,
      "metadata": {
        "id": "Mor241YxodlV"
      },
      "outputs": [],
      "source": [
        "# Your answer here (no code for this question, write down your answer as detail as possible for the above questions):\n",
        "'''\n",
        "\n",
        "Please write you answer here:\n",
        "I have analyzed the marketing dataset from kaggle.This dataset was given to business students for data analysis.It contains data like id,income,number of visits to store,education.\n",
        "The data quality is good enough to analyse but has a few issues.Firstly there are a few duplicate records(based on customer ID).i will remove the duplicate records using DataFrame.drop_duplicates(subset=None, keep=’first’, inplace=False) from pandas library\n",
        "There is some missing data (income, number of visits, education)and will remove those rows using heatmap.\n",
        "The outliers if any can be detected using histogram and box plot and We either drop them or keep them.\n",
        "There is no proper usage of upper and lower cases It could cause issues.sub_area feature can be used to find out.\n",
        "i will convert all letters to lower cases or upper cases.There is dollar symbol in fornt of incomes and the same needs to be removed to perform proper computation like averages,sum.\n",
        "Other parts of data looks fine to me.\n",
        "\n",
        "\n",
        "\n",
        "\n",
        "\n",
        "\n",
        "'''"
      ]
    },
    {
      "cell_type": "markdown",
      "source": [
        "# New Section"
      ],
      "metadata": {
        "id": "bggdidq5o2ka"
      }
    },
    {
      "cell_type": "markdown",
      "metadata": {
        "id": "Y6YozQgvodlW"
      },
      "source": [
        "Question 4 (20 points). Data cleaning: There are two datasets TwADR-L (from Twitter) and AskAPatient (Link: https://zenodo.org/record/55013#.YgU2NN-ZO4T) for medical concept\n",
        "normalization. However, the two datasets have serious data quality problems. Please read the introduction of the datasets and clean the two datasets by following the steps in the statement.\n",
        "\n",
        "In the original dataset, the TwADR-L had 48,057 training, 1,256 validation and 1,427 test examples. The test set (all\n",
        "test samples from 10 folds combined) consists of 765 unique phrases and 273 unique classes (medical concepts). The AskAPatient dataset contained 156,652 training, 7,926 validation, and 8,662 test examples. The entire test set (all test samples\n",
        "from 10 folds combined) consists of 3,749 unique phrases and 1,035 unique classes (medical concepts). The authors\n",
        "randomly split each dataset into ten equal folds, ran 10-fold cross validation and reported the accuracy averaged across the\n",
        "ten folds. \n",
        "\n",
        "We found that, in the original data set, many phrase-label pairs appeared multiple times within the same training data file\n",
        "and also across the training and test data sets in the same fold. In the AskAPatient data set, on average 35.82% of the test data overlapped with training data in the same fold. In the Twitter (TwADR-L) dataset, on average 8.62% of the test set had an overlap with the training data in the same fold. Having a large overlap between the training and the test data can potentially\n",
        "introduce bias in the model and contribute to high accuracy. It is not unlikely that the high model performance reported in the original paper may be triggered by the the large overlap between the training and test sets.\n",
        "\n",
        "Therefore to remove the bias, we further cleaned and recreated the training, validation, and test sets such that each\n",
        "phrase-label pair appears only once in the entire dataset (either in training, validation or test set).\n",
        "\n",
        "(1) First, we combined all examples in training, validation and test data from the original data set and then removed all\n",
        "duplicate phrase-label pairs (examples that have the same phrase and label pair and appear more than once in training/validation/test datasets). Table II shows the statistics of the new dataset (after removing duplicates). The Twitter data set had 3,157 unique phrase-label pairs and 2,220 unique labels (medical concepts) while 173 phrases had multiple labels (i.e., they were assigned to more than one label). Many concepts had only one example, and the concept that had the most number\n",
        "of examples had 36 phrases. On average, each concept had 1.42 examples. The AskAPatient data set had 4,496 unique phrase-label pairs, 1,036 unique labels while 26 phrases had multiple labels. Table III shows examples of phrases that had multiple labels. For example, ‘mad’ can be mapped to ‘anger’ or ‘rage’ and ‘sore’ can be mapped to ‘pain’ or ‘myalgia’.\n",
        "\n",
        "(2) Second, we remove all concepts that had less than five examples. The statistics of the final data are shown in Table IV.\n",
        "\n",
        "(3) Third, we divide all examples without multiple labels into random 10 folds such that each unique phrase-label pair\n",
        "appears once in one of the 10 test sets. We add the pairs with multiple labels into the training data. This final 10-folds\n",
        "dataset is used in all our experiments.\n",
        "\n",
        "(The original paper can be download on canvas)"
      ]
    }
  ],
  "metadata": {
    "kernelspec": {
      "display_name": "Python 3",
      "language": "python",
      "name": "python3"
    },
    "language_info": {
      "codemirror_mode": {
        "name": "ipython",
        "version": 3
      },
      "file_extension": ".py",
      "mimetype": "text/x-python",
      "name": "python",
      "nbconvert_exporter": "python",
      "pygments_lexer": "ipython3",
      "version": "3.8.5"
    },
    "colab": {
      "name": "lab_assignment_03.ipynb",
      "provenance": [],
      "collapsed_sections": [],
      "include_colab_link": true
    }
  },
  "nbformat": 4,
  "nbformat_minor": 0
}