{
  "cells": [
    {
      "cell_type": "markdown",
      "metadata": {
        "id": "view-in-github",
        "colab_type": "text"
      },
      "source": [
        "<a href=\"https://colab.research.google.com/github/samhithaPeddireddy/Samhitha_Info5502_Spring2022/blob/main/lab_assignment_09_(1)_2.ipynb\" target=\"_parent\"><img src=\"https://colab.research.google.com/assets/colab-badge.svg\" alt=\"Open In Colab\"/></a>"
      ]
    },
    {
      "cell_type": "markdown",
      "metadata": {
        "id": "hDsHqjdNkiso"
      },
      "source": [
        "## The ninth Lab-assignment (04/14/2022, 50 points in total)"
      ]
    },
    {
      "cell_type": "markdown",
      "metadata": {
        "id": "Vd4uM4VCkisq"
      },
      "source": [
        "The purpose of this assignment is to practice different Hypothesis Testing."
      ]
    },
    {
      "cell_type": "markdown",
      "metadata": {
        "id": "9ZhqJlHvkisq"
      },
      "source": [
        "### Question 1 (15 points) \n",
        "\n",
        "During the 1980s, the general consensus is that about 5% of the nation’s children had autism. Some claimed that increases certain chemicals in the environment has led to an increase in autism. \n",
        "\n",
        "(1) Write an appropriate hypothesis test for this situation (5 points).  \n",
        "\n",
        "(2) Give an appropriate test for this hypothesis, stating what are the necessary conditions for performing the test (5 points). \n",
        "\n",
        "(3) A recent study examined 384 children and found that 46 showed signs of autism. Perform a test of the hypothesis and state the p-value (5 points). "
      ]
    },
    {
      "cell_type": "code",
      "execution_count": null,
      "metadata": {
        "id": "sXA6VMCvkisr"
      },
      "outputs": [],
      "source": [
        "# You answer here\n",
        "\n",
        "\n",
        "# 1) \n",
        "\"\"\"   Hypothesis Test :-\n",
        "      Null and alternative Hypothesis\n",
        "      H0 : p= 0.05\n",
        "      H1 : p> 0.05   \n",
        "      as p value is less than 0.05, null hypothesis is rejected. \"\"\"\n",
        "\n",
        "\n",
        "\n",
        "# 2)\n",
        "\"\"\"   The appropriate test for hypothesis is t Z test \n",
        "      Necessary conditons for performing the test :-\n",
        "      1)State the null and alternative hypothesis\n",
        "      2)determine the significance level\n",
        "      3)Calculate the test statistic\n",
        "      4)Determine the critical value by taking the critical value from the table\n",
        "      5)outline the rejection criteria\n",
        "      6)Demonstrate the result.then, if the test statistic falls in critical region. then, reject the null hypothesis. \n",
        "\"\"\"\n"
      ]
    },
    {
      "cell_type": "code",
      "source": [
        "# you code here\n",
        "import math\n",
        "P = 46/384\n",
        "print(\"P value is :\",P)\n",
        "Pvalue = 0.05\n",
        "n = 384\n",
        "pcal = (P-Pvalue)\n",
        "pden = Pvalue*(1-Pvalue)/n\n",
        "z = pcal/math.sqrt(pden)\n",
        "print(\"Z value :\",z)"
      ],
      "metadata": {
        "colab": {
          "base_uri": "https://localhost:8080/"
        },
        "id": "s0NMr4-yshE9",
        "outputId": "084a3050-afcc-4c55-fbac-c753473dac02"
      },
      "execution_count": 2,
      "outputs": [
        {
          "output_type": "stream",
          "name": "stdout",
          "text": [
            "P value is : 0.11979166666666667\n",
            "Z value : 6.27512493759735\n"
          ]
        }
      ]
    },
    {
      "cell_type": "markdown",
      "metadata": {
        "id": "GswWnLlnkist"
      },
      "source": [
        "### Question 2 (15 points) \n",
        "\n",
        "National data in the 1960s showed that about 44% of the adult population had never smoked. \n",
        "\n",
        "(1) State a null and alternative hypothesis to test that the fraction of the 1995 population of adults that had never smoked had increased (5 points).  \n",
        "\n",
        "(2) A national random sample of 891 adults were interviewed and 463 stated that they had never smoked. Perform a z-test of the hypothesis and give an approriate p-value (5 points). \n",
        "\n",
        "(3) Create a 98% confidence interval for the proportion of adults who had never been smokers (5 points). "
      ]
    },
    {
      "cell_type": "code",
      "execution_count": null,
      "metadata": {
        "id": "Nns5slozkist"
      },
      "outputs": [],
      "source": [
        "# You answer here\n",
        "# 1) \n",
        "\"\"\"  Null and alternative hypothesis :-\n",
        "     H0(population proportion of the adults who had never been smoked in 1995) : p= 0.44\n",
        "     H1(Population Proportion of the adults in 1995 who had never smoked was not 0.44): p > 0.44  \n",
        "\"\"\"\n",
        "# 2)\n",
        "\"\"\"  total number of adults interviewed is n = 891 \n",
        "     Number of adults who had never smoked i.e, x = 463\n",
        "     So, P^ = x/n = 463/891 = 0.5196\n",
        "\"\"\""
      ]
    },
    {
      "cell_type": "code",
      "source": [
        "#you code here\n",
        "import math\n",
        "\n",
        "u1 = 463/891\n",
        "u2 = 0.44 \n",
        " \n",
        "p = u2 \n",
        "print ('p-value : ', p)\n",
        "standard_dev = math.sqrt(p*(1-p))\n",
        "\n",
        "z = (u1-u2)/(standard_dev/math.sqrt(463))\n",
        "\n",
        "z\n",
        " "
      ],
      "metadata": {
        "id": "zXsETi9as0VM",
        "colab": {
          "base_uri": "https://localhost:8080/"
        },
        "outputId": "cb637cb4-81e5-405a-fec4-9866ad701a38"
      },
      "execution_count": 35,
      "outputs": [
        {
          "output_type": "stream",
          "name": "stdout",
          "text": [
            "p-value :  0.44\n"
          ]
        },
        {
          "output_type": "execute_result",
          "data": {
            "text/plain": [
              "3.4522802724009876"
            ]
          },
          "metadata": {},
          "execution_count": 35
        }
      ]
    },
    {
      "cell_type": "code",
      "source": [
        "import scipy.stats as st\n",
        "st.t.interval(alpha=0.98, df=891, loc=u2, scale=(standard_dev/math.sqrt(463)))\n"
      ],
      "metadata": {
        "colab": {
          "base_uri": "https://localhost:8080/"
        },
        "id": "Kpf644423yAx",
        "outputId": "da395291-614b-4b49-8be7-b9cb589b6456"
      },
      "execution_count": 36,
      "outputs": [
        {
          "output_type": "execute_result",
          "data": {
            "text/plain": [
              "(0.38623662991844804, 0.49376337008155197)"
            ]
          },
          "metadata": {},
          "execution_count": 36
        }
      ]
    },
    {
      "cell_type": "markdown",
      "metadata": {
        "id": "JpkMRk6_kist"
      },
      "source": [
        "### Question 3 (15 points) \n",
        "In this problem,we will examine the sugar content of several national brands of cereals, here measured as a percentage of weight.\n",
        "\n",
        "\n",
        "(1) Give a summary of these two datasets (5 points). \n",
        "\n",
        "(2) Create side-by-side boxplots and interpret what you see (5 points). \n",
        "\n",
        "(3) Use python to create a 95% confidence interval for the difference in mean sugar content and explain your result (5 points). "
      ]
    },
    {
      "cell_type": "code",
      "execution_count": 37,
      "metadata": {
        "id": "at6c_wYnkisu",
        "colab": {
          "base_uri": "https://localhost:8080/"
        },
        "outputId": "e09eaa8a-30cb-4bcb-a52d-2e937486b9af"
      },
      "outputs": [
        {
          "output_type": "stream",
          "name": "stdout",
          "text": [
            "-----------------------children summary ----------\n",
            "Mean of the children dataset : 46.8\n",
            "Median of the children dataset : 45.9\n",
            "Minimum value of the children dataset : 33.6\n",
            "Maximum value of the children dataset : 60.3\n",
            "variance of the children dataset : 41.19555555555555\n",
            "\n",
            "\n",
            "-----------------------Adults summary ----------\n",
            "Mean of the adult dataset : 10.168965517241379\n",
            "Median of the adult dataset : 8.1\n",
            "Minimum value of the adult dataset : 1.0\n",
            "Maximum value of the adult dataset : 30.2\n",
            "The variance of the adult dataset : 55.8857881773399\n",
            "\n",
            "\n",
            "------------------------------------------------\n",
            "we can see that higher the variance ,higher maximum value is in adults than children \n",
            "and the mean and median for adults is high when compared to children for the two datasets\n"
          ]
        }
      ],
      "source": [
        "# You answer here\n",
        " #1)\n",
        "\"\"\" Summary of the two datasets :-\n",
        "Mean of the children dataset : 46.8\n",
        "Median of the children dataset : 45.9\n",
        "Minimum value of the children dataset : 33.6\n",
        "Maximum value of the children dataset : 60.3\n",
        "variance of the children dataset : 41.19555555555555\n",
        "\n",
        "Mean of the adult dataset : 10.168965517241379\n",
        "Median of the adult dataset : 8.1\n",
        "Minimum value of the adult dataset : 1.0\n",
        "Maximum value of the adult dataset : 30.2\n",
        "The variance of the adult dataset : 55.8857881773399\n",
        "\"\"\"\n",
        "import statistics\n",
        "\n",
        "child = ([40.3, 55.0, 45.7, 43.3, 50.3, 45.9, 53.5, 43.0, 44.2, 44.0, 33.6, 55.1, 48.8, \n",
        "                     50.4, 37.8, 60.3, 46.6, 47.4, 44.0])\n",
        "\n",
        "adult = ([20.0, 30.2, 2.2, 7.5, 4.4, 22.2, 16.6, 14.5, 21.4, 3.3, 10.0, 1.0, 4.4, 1.3, 8.1, \n",
        "                  6.6, 7.8, 10.6, 10.6, 16.2, 14.5, 4.1, 15.8, 4.1, 2.4, 3.5, 8.5, 4.7, 18.4])\n",
        "\n",
        "\n",
        "mean = statistics.mean(child)\n",
        "median = statistics.median(child)\n",
        "minimum_v = min(child)\n",
        "maximum_v = max(child)\n",
        "variance_d = statistics.variance(child)\n",
        "print(\"-----------------------children summary ----------\")\n",
        "print(\"Mean of the children dataset :\", mean)\n",
        "print(\"Median of the children dataset :\", median)\n",
        "print(\"Minimum value of the children dataset :\", minimum_v)\n",
        "print(\"Maximum value of the children dataset :\", maximum_v)\n",
        "print(\"variance of the children dataset :\", variance_d)\n",
        "print(\"\\n\")\n",
        "\n",
        "print(\"-----------------------Adults summary ----------\")\n",
        "mean = statistics.mean(adult)\n",
        "median = statistics.median(adult)\n",
        "minimum_v = min(adult)\n",
        "maximum_v = max(adult)\n",
        "variance_d = statistics.variance(adult)\n",
        "print(\"Mean of the adult dataset :\", mean)\n",
        "print(\"Median of the adult dataset :\", median)\n",
        "print(\"Minimum value of the adult dataset :\", minimum_v)\n",
        "print(\"Maximum value of the adult dataset :\", maximum_v)\n",
        "print(\"The variance of the adult dataset :\", variance_d)\n",
        "print(\"\\n\")\n",
        "\n",
        "print(\"------------------------------------------------\")\n",
        "print('''we can see that higher the variance ,higher maximum value is in adults than children \n",
        "and the mean and median for adults is high when compared to children for the two datasets''')"
      ]
    },
    {
      "cell_type": "code",
      "execution_count": 32,
      "metadata": {
        "id": "7iRwnKU3kisu",
        "colab": {
          "base_uri": "https://localhost:8080/",
          "height": 370
        },
        "outputId": "b368ec65-7079-4e47-d1f6-e0a02813e29d"
      },
      "outputs": [
        {
          "output_type": "stream",
          "name": "stdout",
          "text": [
            " From the below boxplots we can see that the percentage weight of sugar content level is high in children when compared to adult\n",
            "\n",
            "\n"
          ]
        },
        {
          "output_type": "stream",
          "name": "stderr",
          "text": [
            "/usr/local/lib/python3.7/dist-packages/matplotlib/cbook/__init__.py:1376: VisibleDeprecationWarning: Creating an ndarray from ragged nested sequences (which is a list-or-tuple of lists-or-tuples-or ndarrays with different lengths or shapes) is deprecated. If you meant to do this, you must specify 'dtype=object' when creating the ndarray.\n",
            "  X = np.atleast_1d(X.T if isinstance(X, np.ndarray) else np.asarray(X))\n"
          ]
        },
        {
          "output_type": "display_data",
          "data": {
            "text/plain": [
              "<Figure size 432x288 with 1 Axes>"
            ],
            "image/png": "[encoded data removed]"
          },
          "metadata": {
            "needs_background": "light"
          }
        }
      ],
      "source": [
        " # 2)\n",
        "\"\"\" we creating side by side box plot for the above two datasets \"\"\"\n",
        "import matplotlib.pyplot as plt\n",
        "import numpy as np\n",
        " \n",
        " \n",
        "# Creating dataset\n",
        "children = ([40.3, 55.0, 45.7, 43.3, 50.3, 45.9, 53.5, 43.0, 44.2, 44.0, 33.6, 55.1, 48.8, \n",
        "                     50.4, 37.8, 60.3, 46.6, 47.4, 44.0])\n",
        "\n",
        "adult = ([20.0, 30.2, 2.2, 7.5, 4.4, 22.2, 16.6, 14.5, 21.4, 3.3, 10.0, 1.0, 4.4, 1.3, 8.1, \n",
        "                  6.6, 7.8, 10.6, 10.6, 16.2, 14.5, 4.1, 15.8, 4.1, 2.4, 3.5, 8.5, 4.7, 18.4])\n",
        "plt.boxplot ([children,adult])\n",
        "\n",
        "print(''' From the below boxplots we can see that the percentage weight of sugar content level is high in children when compared to adult''')\n",
        "print(\"\\n\")\n",
        " \n"
      ]
    },
    {
      "cell_type": "code",
      "source": [
        " #3)\n",
        "diffmean = np.mean(children) - np.mean(adult)\n",
        "z = 1.96 # as it is 95% confidence interval\n",
        "\n",
        "error = z*(math.sqrt(((np.std(children)*np.std(children)/len(children)))+((np.std(adult)*np.std(adult)/len(adult)))))\n",
        "\n",
        "print('Confidence interval of difference in mean is : (' , diffmean - error, ',',diffmean + error,')')"
      ],
      "metadata": {
        "colab": {
          "base_uri": "https://localhost:8080/"
        },
        "id": "G6pIdBuF9vqL",
        "outputId": "5009ea2a-3d62-447b-b345-30c4e101c0ef"
      },
      "execution_count": 33,
      "outputs": [
        {
          "output_type": "stream",
          "name": "stdout",
          "text": [
            "Confidence interval of difference in mean is : ( 32.75304851132368 , 40.50902045419357 )\n"
          ]
        }
      ]
    },
    {
      "cell_type": "markdown",
      "metadata": {
        "id": "ELpxs8bmkisu"
      },
      "source": [
        "### Question 4 (15 points, with 10 extra point included) A/B Testing"
      ]
    },
    {
      "cell_type": "markdown",
      "metadata": {
        "id": "1eWbqWz9kisu"
      },
      "source": [
        "Punishment for crime has many [philosophical justifications](http://plato.stanford.edu/entries/punishment/#ThePun).  An important one is that fear of punishment may *deter* people from committing crimes.\n",
        "\n",
        "In the United States, some jurisdictions execute people who are convicted of particularly serious crimes, such as murder.  This punishment is called the *death penalty* or *capital punishment*.  The death penalty is controversial, and deterrence has been one focal point of the debate.  There are other reasons to support or oppose the death penalty, but in this project we'll focus on deterrence.\n",
        "\n",
        "The key question about deterrence is:\n",
        "\n",
        "> Through our exploration, does instituting a death penalty for murder actually reduce the number of murders?\n",
        "\n",
        "You might have a strong intuition in one direction, but the evidence turns out to be surprisingly complex.  Different sides have variously argued that the death penalty has no deterrent effect and that each execution prevents 8 murders, all using statistical arguments!  We'll try to come to our own conclusion.\n",
        "\n",
        "#### The data\n",
        "\n",
        "The main data source for this lab comes from a [paper](http://cjlf.org/deathpenalty/DezRubShepDeterFinal.pdf) by three researchers, Dezhbakhsh, Rubin, and Shepherd.  The dataset contains rates of various violent crimes for every year 1960-2003 (44 years) in every US state.  The researchers compiled the data from the FBI's Uniform Crime Reports.\n",
        "\n",
        "Since crimes are committed by people, not states, we need to account for the number of people in each state when we're looking at state-level data.  Murder rates are calculated as follows:\n",
        "\n",
        "$$\\text{murder rate for state X in year Y} = \\frac{\\text{number of murders in state X in year Y}}{\\text{population in state X in year Y}}*100000$$\n",
        "\n",
        "(Murder is rare, so we multiply by 100,000 just to avoid dealing with tiny numbers.)\n",
        "\n",
        "Murder rates vary over time, and different states exhibit different trends. The rates in some states change dramatically from year to year, while others are quite stable. Let's plot a couple, just to see the variety.\n",
        "\n",
        "*Hint*: To create two lines, you will need create the table `ak_mn` with two columns of murder rates, in addition to a column of years. This table will have the following structure:\n",
        "\n",
        "| Year | Murder rate in Alaska | Murder rate in Minnesota |\n",
        "|------|-----------------------|--------------------------|\n",
        "| 1960 | 10.2                  | 1.2                      |\n",
        "| 1961 | 11.5                  | 1                        |\n",
        "| 1962 | 4.5                   | 0.9                      |\n",
        "\n",
        "<center>... (41 rows omitted)</center>\n",
        "\n",
        "Some US states have the death penalty, and others don't, and laws have changed over time. In addition to changes in murder rates, we will also consider whether the death penalty was in force in each state and each year.\n",
        "\n",
        "Using this information, we would like to investigate how the presence of the death penalty affects the murder rate of a state."
      ]
    },
    {
      "cell_type": "markdown",
      "metadata": {
        "id": "cNPmSCVakisv"
      },
      "source": [
        "(1) Use preban_rates_copy and postban_rates to create a table change_in_death_rates that contains each state's population, murder rate, and whether or not that state had the death penalty for both 1971 and 1973. (5 points)\n",
        "\n",
        "Create a table rate_means that contains the average murder rates for the states that had the death penalty and the states that didn't have the death penalty. It should have two columns: one indicating if the penalty was in place, and one that contains the average murder rate for each group.\n",
        "\n",
        "Hint: tbl_1.append(tbl_2) with create a new table that includes rows from both tbl_1 and tbl_2. Both tables must have the exactly the same columns, in the same order.\n",
        "\n",
        "(2) We want to figure out if there is a difference between the distribution of death rates in 1971 and 1973. Specifically, we want to test if murder rates were higher in 1973 than they were in 1971. You are required to conduct A/B Testing below (10 points):\n",
        "\n",
        "(2-1) Set observed_difference to the observed test statistic using the rate_means table. \n",
        "\n",
        "\n",
        "(2-2) Given a table like change_in_death_rates, a value column label, and a group column group_label, write a function that calculates the appropriate test statistic.\n",
        "\n",
        "(2-3) Write a function simulate_and_test_statistic to compute one trial of our A/B test. Your function should run a simulation and return a test statistic.\n",
        "\n",
        "(2-4) Simulate 5000 trials of our A/B test and store the test statistics in an array called differences.\n",
        "\n",
        "(2-5) Find the p-value for your test and assign it to empirical_P.\n",
        "\n",
        "(2-6) Using a 5% P-value cutoff, draw a conclusion about the null and alternative hypotheses. Describe your findings using simple, non-technical language. What does your analysis tell you about murder rates after the death penalty was suspended? What can you claim about causation from your statistical analysis?\n"
      ]
    },
    {
      "cell_type": "code",
      "execution_count": 34,
      "metadata": {
        "id": "ccdsbY4dkisw",
        "colab": {
          "base_uri": "https://localhost:8080/",
          "height": 388
        },
        "outputId": "dc81a7e5-4a9b-4bd7-c861-efe28105d15c"
      },
      "outputs": [
        {
          "output_type": "execute_result",
          "data": {
            "text/plain": [
              "State  | Year | Population | Murder Rate\n",
              "Alaska | 1960 | 226,167    | 10.2\n",
              "Alaska | 1961 | 234,000    | 11.5\n",
              "Alaska | 1962 | 246,000    | 4.5\n",
              "Alaska | 1963 | 248,000    | 6.5\n",
              "Alaska | 1964 | 250,000    | 10.4\n",
              "Alaska | 1965 | 253,000    | 6.3\n",
              "Alaska | 1966 | 272,000    | 12.9\n",
              "Alaska | 1967 | 272,000    | 9.6\n",
              "Alaska | 1968 | 277,000    | 10.5\n",
              "Alaska | 1969 | 282,000    | 10.6\n",
              "... (2190 rows omitted)"
            ],
            "text/html": [
              "<table border=\"1\" class=\"dataframe\">\n",
              "    <thead>\n",
              "        <tr>\n",
              "            <th>State</th> <th>Year</th> <th>Population</th> <th>Murder Rate</th>\n",
              "        </tr>\n",
              "    </thead>\n",
              "    <tbody>\n",
              "        <tr>\n",
              "            <td>Alaska</td> <td>1960</td> <td>226,167   </td> <td>10.2       </td>\n",
              "        </tr>\n",
              "        <tr>\n",
              "            <td>Alaska</td> <td>1961</td> <td>234,000   </td> <td>11.5       </td>\n",
              "        </tr>\n",
              "        <tr>\n",
              "            <td>Alaska</td> <td>1962</td> <td>246,000   </td> <td>4.5        </td>\n",
              "        </tr>\n",
              "        <tr>\n",
              "            <td>Alaska</td> <td>1963</td> <td>248,000   </td> <td>6.5        </td>\n",
              "        </tr>\n",
              "        <tr>\n",
              "            <td>Alaska</td> <td>1964</td> <td>250,000   </td> <td>10.4       </td>\n",
              "        </tr>\n",
              "        <tr>\n",
              "            <td>Alaska</td> <td>1965</td> <td>253,000   </td> <td>6.3        </td>\n",
              "        </tr>\n",
              "        <tr>\n",
              "            <td>Alaska</td> <td>1966</td> <td>272,000   </td> <td>12.9       </td>\n",
              "        </tr>\n",
              "        <tr>\n",
              "            <td>Alaska</td> <td>1967</td> <td>272,000   </td> <td>9.6        </td>\n",
              "        </tr>\n",
              "        <tr>\n",
              "            <td>Alaska</td> <td>1968</td> <td>277,000   </td> <td>10.5       </td>\n",
              "        </tr>\n",
              "        <tr>\n",
              "            <td>Alaska</td> <td>1969</td> <td>282,000   </td> <td>10.6       </td>\n",
              "        </tr>\n",
              "    </tbody>\n",
              "</table>\n",
              "<p>... (2190 rows omitted)</p>"
            ]
          },
          "metadata": {},
          "execution_count": 34
        }
      ],
      "source": [
        "import numpy as np\n",
        "from datascience import *\n",
        "import matplotlib\n",
        "# %matplotlib inline\n",
        "import matplotlib.pyplot as plt\n",
        "murder_rates = Table.read_table('crime_rates.csv').select('State', 'Year', 'Population', 'Murder Rate')\n",
        "murder_rates.set_format(\"Population\", NumberFormatter)"
      ]
    },
    {
      "cell_type": "code",
      "execution_count": 16,
      "metadata": {
        "id": "zRvvfeQYkisw",
        "colab": {
          "base_uri": "https://localhost:8080/",
          "height": 388
        },
        "outputId": "9b89d94d-3db0-47aa-8506-b5d82fdb2dda"
      },
      "outputs": [
        {
          "output_type": "execute_result",
          "data": {
            "text/plain": [
              "Year | Murder rate in Alaska | Murder rate in Minnesota\n",
              "1960 | 10.2                  | 1.2\n",
              "1961 | 11.5                  | 1\n",
              "1962 | 4.5                   | 0.9\n",
              "1963 | 6.5                   | 1.2\n",
              "1964 | 10.4                  | 1.4\n",
              "1965 | 6.3                   | 1.4\n",
              "1966 | 12.9                  | 2.2\n",
              "1967 | 9.6                   | 1.6\n",
              "1968 | 10.5                  | 2.2\n",
              "1969 | 10.6                  | 1.9\n",
              "... (34 rows omitted)"
            ],
            "text/html": [
              "<table border=\"1\" class=\"dataframe\">\n",
              "    <thead>\n",
              "        <tr>\n",
              "            <th>Year</th> <th>Murder rate in Alaska</th> <th>Murder rate in Minnesota</th>\n",
              "        </tr>\n",
              "    </thead>\n",
              "    <tbody>\n",
              "        <tr>\n",
              "            <td>1960</td> <td>10.2                 </td> <td>1.2                     </td>\n",
              "        </tr>\n",
              "        <tr>\n",
              "            <td>1961</td> <td>11.5                 </td> <td>1                       </td>\n",
              "        </tr>\n",
              "        <tr>\n",
              "            <td>1962</td> <td>4.5                  </td> <td>0.9                     </td>\n",
              "        </tr>\n",
              "        <tr>\n",
              "            <td>1963</td> <td>6.5                  </td> <td>1.2                     </td>\n",
              "        </tr>\n",
              "        <tr>\n",
              "            <td>1964</td> <td>10.4                 </td> <td>1.4                     </td>\n",
              "        </tr>\n",
              "        <tr>\n",
              "            <td>1965</td> <td>6.3                  </td> <td>1.4                     </td>\n",
              "        </tr>\n",
              "        <tr>\n",
              "            <td>1966</td> <td>12.9                 </td> <td>2.2                     </td>\n",
              "        </tr>\n",
              "        <tr>\n",
              "            <td>1967</td> <td>9.6                  </td> <td>1.6                     </td>\n",
              "        </tr>\n",
              "        <tr>\n",
              "            <td>1968</td> <td>10.5                 </td> <td>2.2                     </td>\n",
              "        </tr>\n",
              "        <tr>\n",
              "            <td>1969</td> <td>10.6                 </td> <td>1.9                     </td>\n",
              "        </tr>\n",
              "    </tbody>\n",
              "</table>\n",
              "<p>... (34 rows omitted)</p>"
            ]
          },
          "metadata": {},
          "execution_count": 16
        }
      ],
      "source": [
        "# You code here\n",
        "ak = murder_rates.where('State', 'Alaska').drop('State', 'Population').relabeled(1, 'Murder rate in Alaska')\n",
        "mn = murder_rates.where('State', 'Minnesota').drop('State', 'Population').relabeled(1, 'Murder rate in Minnesota')\n",
        "ak_mn = ak.join(\"Year\", mn)\n",
        "ak_mn"
      ]
    },
    {
      "cell_type": "code",
      "source": [
        "# 1)\n",
        "non_death_penalty_states = make_array('Alaska', 'Hawaii', 'Maine', 'Michigan', 'Wisconsin', 'Minnesota')\n",
        "\n",
        "def had_death_penalty_in_1971(state):\n",
        "\n",
        "    return state not in non_death_penalty_states\n",
        "\n",
        "states = murder_rates.group('State').select('State')\n",
        "death_penalty = states.with_column('Death Penalty', states.apply(had_death_penalty_in_1971, 0))\n",
        "death_penalty"
      ],
      "metadata": {
        "colab": {
          "base_uri": "https://localhost:8080/",
          "height": 388
        },
        "id": "Nu9cDFHqJHR3",
        "outputId": "69c9405b-7d5a-4fc3-d637-784e2840a939"
      },
      "execution_count": 17,
      "outputs": [
        {
          "output_type": "execute_result",
          "data": {
            "text/plain": [
              "State       | Death Penalty\n",
              "Alabama     | True\n",
              "Alaska      | False\n",
              "Arizona     | True\n",
              "Arkansas    | True\n",
              "California  | True\n",
              "Colorado    | True\n",
              "Connecticut | True\n",
              "Delaware    | True\n",
              "Florida     | True\n",
              "Georgia     | True\n",
              "... (40 rows omitted)"
            ],
            "text/html": [
              "<table border=\"1\" class=\"dataframe\">\n",
              "    <thead>\n",
              "        <tr>\n",
              "            <th>State</th> <th>Death Penalty</th>\n",
              "        </tr>\n",
              "    </thead>\n",
              "    <tbody>\n",
              "        <tr>\n",
              "            <td>Alabama    </td> <td>True         </td>\n",
              "        </tr>\n",
              "        <tr>\n",
              "            <td>Alaska     </td> <td>False        </td>\n",
              "        </tr>\n",
              "        <tr>\n",
              "            <td>Arizona    </td> <td>True         </td>\n",
              "        </tr>\n",
              "        <tr>\n",
              "            <td>Arkansas   </td> <td>True         </td>\n",
              "        </tr>\n",
              "        <tr>\n",
              "            <td>California </td> <td>True         </td>\n",
              "        </tr>\n",
              "        <tr>\n",
              "            <td>Colorado   </td> <td>True         </td>\n",
              "        </tr>\n",
              "        <tr>\n",
              "            <td>Connecticut</td> <td>True         </td>\n",
              "        </tr>\n",
              "        <tr>\n",
              "            <td>Delaware   </td> <td>True         </td>\n",
              "        </tr>\n",
              "        <tr>\n",
              "            <td>Florida    </td> <td>True         </td>\n",
              "        </tr>\n",
              "        <tr>\n",
              "            <td>Georgia    </td> <td>True         </td>\n",
              "        </tr>\n",
              "    </tbody>\n",
              "</table>\n",
              "<p>... (40 rows omitted)</p>"
            ]
          },
          "metadata": {},
          "execution_count": 17
        }
      ]
    },
    {
      "cell_type": "code",
      "source": [
        "preban_rates = murder_rates.where(\"Year\", 1971).join(\"State\", death_penalty.where(\"Death Penalty\", True))\n",
        "preban_rates"
      ],
      "metadata": {
        "colab": {
          "base_uri": "https://localhost:8080/",
          "height": 388
        },
        "id": "QxZBP23YKCQl",
        "outputId": "d8ae243f-ace4-4076-d57c-74495e7515b2"
      },
      "execution_count": 18,
      "outputs": [
        {
          "output_type": "execute_result",
          "data": {
            "text/plain": [
              "State       | Year | Population | Murder Rate | Death Penalty\n",
              "Alabama     | 1971 | 3,479,000  | 15.1        | True\n",
              "Arizona     | 1971 | 1,849,000  | 6.7         | True\n",
              "Arkansas    | 1971 | 1,944,000  | 10.5        | True\n",
              "California  | 1971 | 20,223,000 | 8.1         | True\n",
              "Colorado    | 1971 | 2,283,000  | 6.5         | True\n",
              "Connecticut | 1971 | 3,081,000  | 3.1         | True\n",
              "Delaware    | 1971 | 558,000    | 6.1         | True\n",
              "Florida     | 1971 | 7,041,000  | 13.3        | True\n",
              "Georgia     | 1971 | 4,664,000  | 16          | True\n",
              "Idaho       | 1971 | 732,000    | 3.3         | True\n",
              "... (34 rows omitted)"
            ],
            "text/html": [
              "<table border=\"1\" class=\"dataframe\">\n",
              "    <thead>\n",
              "        <tr>\n",
              "            <th>State</th> <th>Year</th> <th>Population</th> <th>Murder Rate</th> <th>Death Penalty</th>\n",
              "        </tr>\n",
              "    </thead>\n",
              "    <tbody>\n",
              "        <tr>\n",
              "            <td>Alabama    </td> <td>1971</td> <td>3,479,000 </td> <td>15.1       </td> <td>True         </td>\n",
              "        </tr>\n",
              "        <tr>\n",
              "            <td>Arizona    </td> <td>1971</td> <td>1,849,000 </td> <td>6.7        </td> <td>True         </td>\n",
              "        </tr>\n",
              "        <tr>\n",
              "            <td>Arkansas   </td> <td>1971</td> <td>1,944,000 </td> <td>10.5       </td> <td>True         </td>\n",
              "        </tr>\n",
              "        <tr>\n",
              "            <td>California </td> <td>1971</td> <td>20,223,000</td> <td>8.1        </td> <td>True         </td>\n",
              "        </tr>\n",
              "        <tr>\n",
              "            <td>Colorado   </td> <td>1971</td> <td>2,283,000 </td> <td>6.5        </td> <td>True         </td>\n",
              "        </tr>\n",
              "        <tr>\n",
              "            <td>Connecticut</td> <td>1971</td> <td>3,081,000 </td> <td>3.1        </td> <td>True         </td>\n",
              "        </tr>\n",
              "        <tr>\n",
              "            <td>Delaware   </td> <td>1971</td> <td>558,000   </td> <td>6.1        </td> <td>True         </td>\n",
              "        </tr>\n",
              "        <tr>\n",
              "            <td>Florida    </td> <td>1971</td> <td>7,041,000 </td> <td>13.3       </td> <td>True         </td>\n",
              "        </tr>\n",
              "        <tr>\n",
              "            <td>Georgia    </td> <td>1971</td> <td>4,664,000 </td> <td>16         </td> <td>True         </td>\n",
              "        </tr>\n",
              "        <tr>\n",
              "            <td>Idaho      </td> <td>1971</td> <td>732,000   </td> <td>3.3        </td> <td>True         </td>\n",
              "        </tr>\n",
              "    </tbody>\n",
              "</table>\n",
              "<p>... (34 rows omitted)</p>"
            ]
          },
          "metadata": {},
          "execution_count": 18
        }
      ]
    },
    {
      "cell_type": "code",
      "source": [
        "postban_rates = murder_rates.where(\"Year\", 1973).join(\"State\", preban_rates).select(\"State\", \"Year\", \"Population\", \"Murder Rate\")\n",
        "postban_rates = postban_rates.with_column(\"Death Penalty\", False)\n",
        "postban_rates = postban_rates.sort(\"State\")\n",
        "postban_rates"
      ],
      "metadata": {
        "colab": {
          "base_uri": "https://localhost:8080/",
          "height": 388
        },
        "id": "jcTOP8PkKF9z",
        "outputId": "3ed46274-3ec1-40a0-f569-b9bb98b259c3"
      },
      "execution_count": 19,
      "outputs": [
        {
          "output_type": "execute_result",
          "data": {
            "text/plain": [
              "State       | Year | Population | Murder Rate | Death Penalty\n",
              "Alabama     | 1973 | 3,539,000  | 13.2        | False\n",
              "Arizona     | 1973 | 2,058,000  | 8.1         | False\n",
              "Arkansas    | 1973 | 2,037,000  | 8.8         | False\n",
              "California  | 1973 | 20,601,000 | 9           | False\n",
              "Colorado    | 1973 | 2,437,000  | 7.9         | False\n",
              "Connecticut | 1973 | 3,076,000  | 3.3         | False\n",
              "Delaware    | 1973 | 576,000    | 5.9         | False\n",
              "Florida     | 1973 | 7,678,000  | 15.4        | False\n",
              "Georgia     | 1973 | 4,786,000  | 17.4        | False\n",
              "Idaho       | 1973 | 770,000    | 2.6         | False\n",
              "... (34 rows omitted)"
            ],
            "text/html": [
              "<table border=\"1\" class=\"dataframe\">\n",
              "    <thead>\n",
              "        <tr>\n",
              "            <th>State</th> <th>Year</th> <th>Population</th> <th>Murder Rate</th> <th>Death Penalty</th>\n",
              "        </tr>\n",
              "    </thead>\n",
              "    <tbody>\n",
              "        <tr>\n",
              "            <td>Alabama    </td> <td>1973</td> <td>3,539,000 </td> <td>13.2       </td> <td>False        </td>\n",
              "        </tr>\n",
              "        <tr>\n",
              "            <td>Arizona    </td> <td>1973</td> <td>2,058,000 </td> <td>8.1        </td> <td>False        </td>\n",
              "        </tr>\n",
              "        <tr>\n",
              "            <td>Arkansas   </td> <td>1973</td> <td>2,037,000 </td> <td>8.8        </td> <td>False        </td>\n",
              "        </tr>\n",
              "        <tr>\n",
              "            <td>California </td> <td>1973</td> <td>20,601,000</td> <td>9          </td> <td>False        </td>\n",
              "        </tr>\n",
              "        <tr>\n",
              "            <td>Colorado   </td> <td>1973</td> <td>2,437,000 </td> <td>7.9        </td> <td>False        </td>\n",
              "        </tr>\n",
              "        <tr>\n",
              "            <td>Connecticut</td> <td>1973</td> <td>3,076,000 </td> <td>3.3        </td> <td>False        </td>\n",
              "        </tr>\n",
              "        <tr>\n",
              "            <td>Delaware   </td> <td>1973</td> <td>576,000   </td> <td>5.9        </td> <td>False        </td>\n",
              "        </tr>\n",
              "        <tr>\n",
              "            <td>Florida    </td> <td>1973</td> <td>7,678,000 </td> <td>15.4       </td> <td>False        </td>\n",
              "        </tr>\n",
              "        <tr>\n",
              "            <td>Georgia    </td> <td>1973</td> <td>4,786,000 </td> <td>17.4       </td> <td>False        </td>\n",
              "        </tr>\n",
              "        <tr>\n",
              "            <td>Idaho      </td> <td>1973</td> <td>770,000   </td> <td>2.6        </td> <td>False        </td>\n",
              "        </tr>\n",
              "    </tbody>\n",
              "</table>\n",
              "<p>... (34 rows omitted)</p>"
            ]
          },
          "metadata": {},
          "execution_count": 19
        }
      ]
    },
    {
      "cell_type": "code",
      "source": [
        "preban_rates_copy = preban_rates.copy()\n",
        "change_in_death_rates = preban_rates_copy.append(postban_rates)\n",
        "change_in_death_rates\n",
        "\n"
      ],
      "metadata": {
        "colab": {
          "base_uri": "https://localhost:8080/",
          "height": 388
        },
        "id": "6_s6eUL1KS1Q",
        "outputId": "aa05a1a5-4431-4e4b-91d4-c77a7a49bee4"
      },
      "execution_count": 20,
      "outputs": [
        {
          "output_type": "execute_result",
          "data": {
            "text/plain": [
              "State       | Year | Population | Murder Rate | Death Penalty\n",
              "Alabama     | 1971 | 3,479,000  | 15.1        | True\n",
              "Arizona     | 1971 | 1,849,000  | 6.7         | True\n",
              "Arkansas    | 1971 | 1,944,000  | 10.5        | True\n",
              "California  | 1971 | 20,223,000 | 8.1         | True\n",
              "Colorado    | 1971 | 2,283,000  | 6.5         | True\n",
              "Connecticut | 1971 | 3,081,000  | 3.1         | True\n",
              "Delaware    | 1971 | 558,000    | 6.1         | True\n",
              "Florida     | 1971 | 7,041,000  | 13.3        | True\n",
              "Georgia     | 1971 | 4,664,000  | 16          | True\n",
              "Idaho       | 1971 | 732,000    | 3.3         | True\n",
              "... (78 rows omitted)"
            ],
            "text/html": [
              "<table border=\"1\" class=\"dataframe\">\n",
              "    <thead>\n",
              "        <tr>\n",
              "            <th>State</th> <th>Year</th> <th>Population</th> <th>Murder Rate</th> <th>Death Penalty</th>\n",
              "        </tr>\n",
              "    </thead>\n",
              "    <tbody>\n",
              "        <tr>\n",
              "            <td>Alabama    </td> <td>1971</td> <td>3,479,000 </td> <td>15.1       </td> <td>True         </td>\n",
              "        </tr>\n",
              "        <tr>\n",
              "            <td>Arizona    </td> <td>1971</td> <td>1,849,000 </td> <td>6.7        </td> <td>True         </td>\n",
              "        </tr>\n",
              "        <tr>\n",
              "            <td>Arkansas   </td> <td>1971</td> <td>1,944,000 </td> <td>10.5       </td> <td>True         </td>\n",
              "        </tr>\n",
              "        <tr>\n",
              "            <td>California </td> <td>1971</td> <td>20,223,000</td> <td>8.1        </td> <td>True         </td>\n",
              "        </tr>\n",
              "        <tr>\n",
              "            <td>Colorado   </td> <td>1971</td> <td>2,283,000 </td> <td>6.5        </td> <td>True         </td>\n",
              "        </tr>\n",
              "        <tr>\n",
              "            <td>Connecticut</td> <td>1971</td> <td>3,081,000 </td> <td>3.1        </td> <td>True         </td>\n",
              "        </tr>\n",
              "        <tr>\n",
              "            <td>Delaware   </td> <td>1971</td> <td>558,000   </td> <td>6.1        </td> <td>True         </td>\n",
              "        </tr>\n",
              "        <tr>\n",
              "            <td>Florida    </td> <td>1971</td> <td>7,041,000 </td> <td>13.3       </td> <td>True         </td>\n",
              "        </tr>\n",
              "        <tr>\n",
              "            <td>Georgia    </td> <td>1971</td> <td>4,664,000 </td> <td>16         </td> <td>True         </td>\n",
              "        </tr>\n",
              "        <tr>\n",
              "            <td>Idaho      </td> <td>1971</td> <td>732,000   </td> <td>3.3        </td> <td>True         </td>\n",
              "        </tr>\n",
              "    </tbody>\n",
              "</table>\n",
              "<p>... (78 rows omitted)</p>"
            ]
          },
          "metadata": {},
          "execution_count": 20
        }
      ]
    },
    {
      "cell_type": "code",
      "source": [
        "change_in_death_rates.hist('Murder Rate', group = 'Death Penalty')"
      ],
      "metadata": {
        "id": "YYFXNXu7rbqD",
        "colab": {
          "base_uri": "https://localhost:8080/",
          "height": 265
        },
        "outputId": "34ba9402-30fa-4810-b12b-f7857f250ab3"
      },
      "execution_count": 21,
      "outputs": [
        {
          "output_type": "display_data",
          "data": {
            "text/plain": [
              "<Figure size 432x288 with 1 Axes>"
            ],
            "image/png": "[encoded data removed]"
          },
          "metadata": {
            "needs_background": "light"
          }
        }
      ]
    },
    {
      "cell_type": "code",
      "source": [
        "new_table = change_in_death_rates.group(\"Death Penalty\", np.average)\n",
        "rate_means = new_table.select(\"Death Penalty\", \"Murder Rate average\")\n",
        "rate_means"
      ],
      "metadata": {
        "colab": {
          "base_uri": "https://localhost:8080/",
          "height": 111
        },
        "id": "aqlRuMSFKVJd",
        "outputId": "4adfc411-5963-4fa4-df34-f755c52f6ca1"
      },
      "execution_count": 22,
      "outputs": [
        {
          "output_type": "execute_result",
          "data": {
            "text/plain": [
              "Death Penalty | Murder Rate average\n",
              "False         | 8.12045\n",
              "True          | 7.51364"
            ],
            "text/html": [
              "<table border=\"1\" class=\"dataframe\">\n",
              "    <thead>\n",
              "        <tr>\n",
              "            <th>Death Penalty</th> <th>Murder Rate average</th>\n",
              "        </tr>\n",
              "    </thead>\n",
              "    <tbody>\n",
              "        <tr>\n",
              "            <td>False        </td> <td>8.12045            </td>\n",
              "        </tr>\n",
              "        <tr>\n",
              "            <td>True         </td> <td>7.51364            </td>\n",
              "        </tr>\n",
              "    </tbody>\n",
              "</table>"
            ]
          },
          "metadata": {},
          "execution_count": 22
        }
      ]
    },
    {
      "cell_type": "code",
      "source": [
        "# 2(2-1)\n",
        "observed_difference = rate_means.column(\"Murder Rate average\").item(0) - rate_means.column(\"Murder Rate average\").item(1)\n",
        "observed_difference"
      ],
      "metadata": {
        "colab": {
          "base_uri": "https://localhost:8080/"
        },
        "id": "hfKPD59yKgLi",
        "outputId": "1bfb6cd2-a773-420b-9126-196f1e8069d9"
      },
      "execution_count": 23,
      "outputs": [
        {
          "output_type": "execute_result",
          "data": {
            "text/plain": [
              "0.6068181600659095"
            ]
          },
          "metadata": {},
          "execution_count": 23
        }
      ]
    },
    {
      "cell_type": "code",
      "source": [
        " #2(2-2)\n",
        "def find_test_stat(table, label, group_label):\n",
        "   new_table = table.group(group_label, np.average)\n",
        "   return new_table.column(label + \" average\").item(0) - new_table.column(label + \" average\").item(1)\n",
        "\n",
        "find_test_stat(change_in_death_rates, \"Murder Rate\", \"Death Penalty\")"
      ],
      "metadata": {
        "colab": {
          "base_uri": "https://localhost:8080/"
        },
        "id": "zwwyfITeKsSN",
        "outputId": "31475879-5a07-4e77-9e50-2393b087e3b6"
      },
      "execution_count": 24,
      "outputs": [
        {
          "output_type": "execute_result",
          "data": {
            "text/plain": [
              "0.6068181600659095"
            ]
          },
          "metadata": {},
          "execution_count": 24
        }
      ]
    },
    {
      "cell_type": "code",
      "source": [
        " #2(2-3)\n",
        "def simulate_and_test_statistic(table, label, group_label):\n",
        "  shuffled_column = table.sample(with_replacement = False).column(group_label)\n",
        "  new_table = table.drop(group_label).with_column(\"shuffled label\", shuffled_column)\n",
        "  return find_test_stat(new_table, label, \"shuffled label\")\n",
        "\n",
        "simulate_and_test_statistic(change_in_death_rates, \"Murder Rate\", \"Death Penalty\")"
      ],
      "metadata": {
        "colab": {
          "base_uri": "https://localhost:8080/"
        },
        "id": "SxUsigrhK4nM",
        "outputId": "a7c864a0-cc7e-470d-8bd8-6b6024cded6b"
      },
      "execution_count": 25,
      "outputs": [
        {
          "output_type": "execute_result",
          "data": {
            "text/plain": [
              "0.5568181236613654"
            ]
          },
          "metadata": {},
          "execution_count": 25
        }
      ]
    },
    {
      "cell_type": "code",
      "source": [
        " #2(2-4)\n",
        "import numpy as np\n",
        "differences = make_array()\n",
        "\n",
        "for i in np.arange(5000):\n",
        "    test = simulate_and_test_statistic(change_in_death_rates, \"Murder Rate\", \"Death Penalty\")\n",
        "    differences = np.append(differences, test)\n",
        "\n",
        "differences"
      ],
      "metadata": {
        "id": "26AUStktLEKZ",
        "colab": {
          "base_uri": "https://localhost:8080/"
        },
        "outputId": "faa6c427-fd5b-4d8f-a9c9-0f8696391604"
      },
      "execution_count": 26,
      "outputs": [
        {
          "output_type": "execute_result",
          "data": {
            "text/plain": [
              "array([-1.36590908, -0.02045448,  0.68409092, ..., -0.04772728,\n",
              "        0.92500006,  0.57045459])"
            ]
          },
          "metadata": {},
          "execution_count": 26
        }
      ]
    },
    {
      "cell_type": "code",
      "source": [
        "#2(2-5)\n",
        "empirical_P = sum(differences >= observed_difference) / len(differences)\n",
        "empirical_P"
      ],
      "metadata": {
        "colab": {
          "base_uri": "https://localhost:8080/"
        },
        "id": "q1fznwlGqUD6",
        "outputId": "015aeb79-1c55-4f73-d2c4-b418d505bfe6"
      },
      "execution_count": 27,
      "outputs": [
        {
          "output_type": "execute_result",
          "data": {
            "text/plain": [
              "0.2566"
            ]
          },
          "metadata": {},
          "execution_count": 27
        }
      ]
    },
    {
      "cell_type": "code",
      "source": [
        "#2(2-6)\n",
        "\"\"\"I feel that the data is more consistant with null hypothesis\n",
        " which means with and without death penality the murder does not change much\"\"\""
      ],
      "metadata": {
        "id": "QNwhLvSpsGbJ",
        "colab": {
          "base_uri": "https://localhost:8080/",
          "height": 54
        },
        "outputId": "39c28922-5a29-476f-fe5f-08b42fb66964"
      },
      "execution_count": 28,
      "outputs": [
        {
          "output_type": "execute_result",
          "data": {
            "text/plain": [
              "' From the above code I have understood that the data is more consistant with the null hypothesis\\n which means with and without death penality the murder do not change much'"
            ],
            "application/vnd.google.colaboratory.intrinsic+json": {
              "type": "string"
            }
          },
          "metadata": {},
          "execution_count": 28
        }
      ]
    }
  ],
  "metadata": {
    "kernelspec": {
      "display_name": "Python 3",
      "language": "python",
      "name": "python3"
    },
    "language_info": {
      "codemirror_mode": {
        "name": "ipython",
        "version": 3
      },
      "file_extension": ".py",
      "mimetype": "text/x-python",
      "name": "python",
      "nbconvert_exporter": "python",
      "pygments_lexer": "ipython3",
      "version": "3.8.5"
    },
    "colab": {
      "name": "lab_assignment_09 (1)-2.ipynb",
      "provenance": [],
      "collapsed_sections": [],
      "include_colab_link": true
    }
  },
  "nbformat": 4,
  "nbformat_minor": 0
}